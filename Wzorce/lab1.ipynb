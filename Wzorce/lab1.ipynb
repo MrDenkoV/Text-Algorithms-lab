{
 "cells": [
  {
   "cell_type": "markdown",
   "metadata": {},
   "source": [
    "# Laboratorium pierwsze\n",
    "## Wyszukiwanie wzorców w tekście"
   ]
  },
  {
   "cell_type": "code",
   "execution_count": 1,
   "metadata": {},
   "outputs": [],
   "source": [
    "import numpy as np\n",
    "import time"
   ]
  },
  {
   "cell_type": "markdown",
   "metadata": {},
   "source": [
    "#### Zaimportujmy najważniejsze biblioteki:\n",
    " * numpy - do wyznaczania alfabetu funkcją np.unique()\n",
    " * time - do liczenia czasu"
   ]
  },
  {
   "cell_type": "code",
   "execution_count": 2,
   "metadata": {},
   "outputs": [],
   "source": [
    "def readfile(name=\"in.in\"):\n",
    "    file = open(name, \"r\")\n",
    "    txt1 = file.read()\n",
    "    file.close()\n",
    "    return txt1, \"art\""
   ]
  },
  {
   "cell_type": "markdown",
   "metadata": {},
   "source": [
    "### Zaimplementuje algorytmy wszukiwania wzorców\n",
    " * Naiwny\n",
    " * Automat skończony\n",
    " * KMP"
   ]
  },
  {
   "cell_type": "markdown",
   "metadata": {},
   "source": [
    "Funkcja readfile - przyjmuje jako argument nazwę pliku do przeczytania, a zwraca zawartość pliku i wzorzec do przeszukania -> funkcja dostosowana do wyszukania art w pliku zawierającym ustawę(domyślnie in.in)"
   ]
  },
  {
   "cell_type": "code",
   "execution_count": 3,
   "metadata": {},
   "outputs": [],
   "source": [
    "def naive(source, pattern):\n",
    "    ans = []\n",
    "    for i in range(0, len(source) - len(pattern)+1):\n",
    "        if source[i:i+len(pattern)] == pattern:\n",
    "            ans.append(i)\n",
    "    return ans"
   ]
  },
  {
   "cell_type": "markdown",
   "metadata": {},
   "source": [
    "Funkcja naive - przyjmuje tekst i wzorzec w nim do wyszukania, a zwraca indeksy wzorców w tekście -> wykonuje algorytm naiwny"
   ]
  },
  {
   "cell_type": "code",
   "execution_count": 4,
   "metadata": {},
   "outputs": [],
   "source": [
    "def trans(pattern, alf):\n",
    "    mov = [{} for i in range(len(pattern)+1)]\n",
    "    for i in alf:\n",
    "        mov[0][i] = 0\n",
    "    mov[0][pattern[0]] = 1\n",
    "    lps = 0\n",
    "    for i in range(1, len(pattern)+1):\n",
    "        for x in alf:\n",
    "            mov[i][x] = mov[lps][x]\n",
    "        if i < len(pattern):\n",
    "            mov[i][pattern[i]] = i+1\n",
    "            lps = mov[lps][pattern[i]]\n",
    "    return mov"
   ]
  },
  {
   "cell_type": "markdown",
   "metadata": {},
   "source": [
    "Funkcja trans - przyjmuje wzorzec i alfabet, a zwraca tablicę przejśc, potrzebną do alogrytmu automatu skończonego"
   ]
  },
  {
   "cell_type": "code",
   "execution_count": 5,
   "metadata": {},
   "outputs": [],
   "source": [
    "def auto(source, pattern, alf=set(), mov=[]):\n",
    "    if len(alf)==0:\n",
    "        alf = set(np.unique([x for x in pattern]))\n",
    "    if len(mov)==0:\n",
    "        mov = trans(pattern, alf)\n",
    "    q = 0\n",
    "    ans = []\n",
    "    for s in range(0, len(source)):\n",
    "        if source[s] not in alf:\n",
    "            q = 0\n",
    "        else:\n",
    "            q = mov[q][source[s]]\n",
    "            if q == len(mov)-1:\n",
    "                ans += [s+1-q]\n",
    "    return ans"
   ]
  },
  {
   "cell_type": "markdown",
   "metadata": {},
   "source": [
    "Funkcja auto - przyjmuje tekst, wzorzec, alfabet (sam uzupełnia w przypadku braku) i tablicę przejść (sam uzupełnia w przypadku braku), a zwraca indeksy wzorców w tekście -> wykonuje algorytm na automat skończony"
   ]
  },
  {
   "cell_type": "code",
   "execution_count": 6,
   "metadata": {},
   "outputs": [],
   "source": [
    "def pre(pattern):\n",
    "    pi = [0]\n",
    "    k = 0\n",
    "    for i in range(1, len(pattern)):\n",
    "        while k > 0 and pattern[i] != pattern[k]:\n",
    "            k = pi[k-1]\n",
    "        if pattern[k] == pattern[i]:\n",
    "            k = k+1\n",
    "        pi.append(k)\n",
    "    return pi"
   ]
  },
  {
   "cell_type": "markdown",
   "metadata": {},
   "source": [
    "Funkcja pre - przyjmuje wzorzec i zwraca tablcę prefiksową, potrzebną do KMP"
   ]
  },
  {
   "cell_type": "code",
   "execution_count": 7,
   "metadata": {},
   "outputs": [],
   "source": [
    "def kmp(source, pattern, ps=[]):\n",
    "    if len(ps)==0:\n",
    "        ps = pre(pattern)\n",
    "    res = []\n",
    "    q = 0\n",
    "    for i in range(len(source)):\n",
    "        while q > 0 and pattern[q] != source[i]:\n",
    "            q = ps[q-1]\n",
    "        if pattern[q] == source[i]:\n",
    "            q += 1\n",
    "        if q == len(pattern):\n",
    "            res += [i+1-q]\n",
    "            q = ps[q-1]\n",
    "    return res"
   ]
  },
  {
   "cell_type": "markdown",
   "metadata": {},
   "source": [
    "Funkcja kmp - przyjmuje tekst, wzorzec i tablicę prefiksową (automatycznie tworzy jeśli jej brak, zwraca indeksy wzorców w tekście -> wykonuje algorytm KMP"
   ]
  },
  {
   "cell_type": "markdown",
   "metadata": {},
   "source": [
    "### Zaimplementuj testy porównujące szybkość działania wyżej wymienionych algorytmów\n",
    "Zakładam, że chodzi o funkcje porównujące czasy."
   ]
  },
  {
   "cell_type": "code",
   "execution_count": 8,
   "metadata": {},
   "outputs": [],
   "source": [
    "def times(txt, pat):\n",
    "    stna = time.process_time()\n",
    "    resna = naive(txt, pat)\n",
    "    enna = time.process_time()\n",
    "\n",
    "    stau = time.process_time()\n",
    "    resau = auto(txt, pat)\n",
    "    enau = time.process_time()\n",
    "\n",
    "    stkm = time.process_time()\n",
    "    reskm = kmp(txt, pat)\n",
    "    enkm = time.process_time()\n",
    "\n",
    "    print(f\"naive {enna-stna} {len(resna)}\")\n",
    "    print(f\"automat {enau-stau} {len(resau)}\")\n",
    "    print(f\"kmp {enkm-stkm} {len(reskm)}\")"
   ]
  },
  {
   "cell_type": "markdown",
   "metadata": {},
   "source": [
    "Funkcja times - przyjmuje tekst i wzorzec, wykonuje wszystkie 3 algorytmy i wypisuje ich czasy oraz liczbę wystąpień wzorca w tekście"
   ]
  },
  {
   "cell_type": "code",
   "execution_count": 9,
   "metadata": {},
   "outputs": [],
   "source": [
    "def creation(pat):\n",
    "    alf = set(np.unique([x for x in pat]))\n",
    "    stpa = time.process_time()\n",
    "    trans(pat, alf)\n",
    "    enpa = time.process_time()\n",
    "\n",
    "    stpk = time.process_time()\n",
    "    pre(pat)\n",
    "    enpk = time.process_time()\n",
    "\n",
    "    print(f\"automat {enpa-stpa}\")\n",
    "    print(f\"kmp {enpk-stpk}\")"
   ]
  },
  {
   "cell_type": "markdown",
   "metadata": {},
   "source": [
    "Funkcja creation - przyjmuje wzorzec, tworzy obie tablice pomocnicze, dla automatu skończonego i kmp oraz wypisuje czas ich tworzenia"
   ]
  },
  {
   "cell_type": "markdown",
   "metadata": {},
   "source": [
    "### Znajdź wszystkie wystąpienia \"art\" w ustawie, każdym algorytmem"
   ]
  },
  {
   "cell_type": "code",
   "execution_count": 10,
   "metadata": {},
   "outputs": [
    {
     "name": "stdout",
     "output_type": "stream",
     "text": [
      "Naiwny: 273\n",
      "Automat: 273\n",
      "KMP: 273\n",
      "Equal: True\n"
     ]
    }
   ],
   "source": [
    "txt, pat = readfile()\n",
    "WN = naive(txt, pat)\n",
    "WA = auto(txt, pat)\n",
    "WK = kmp(txt, pat)\n",
    "print(f\"Naiwny: {len(WN)}\")\n",
    "print(f\"Automat: {len(WA)}\")\n",
    "print(f\"KMP: {len(WK)}\")\n",
    "print(f\"Equal: {WN==WA==WK}\")"
   ]
  },
  {
   "cell_type": "markdown",
   "metadata": {},
   "source": [
    "Można wypisać dowolną listę, ale ze względu na 273 elementów pozwoliłem sobie to ominąć, porównałem zawartości i liczebności wyników."
   ]
  },
  {
   "cell_type": "markdown",
   "metadata": {},
   "source": [
    "### Porównaj szybkości działania algorytmów dla poprzedniegoprzykładu"
   ]
  },
  {
   "cell_type": "code",
   "execution_count": 11,
   "metadata": {},
   "outputs": [
    {
     "name": "stdout",
     "output_type": "stream",
     "text": [
      "naive 0.0873694319999998 273\n",
      "automat 0.04567884499999986 273\n",
      "kmp 0.11448136899999994 273\n"
     ]
    }
   ],
   "source": [
    "txt, pat = readfile()\n",
    "times(txt, pat)"
   ]
  },
  {
   "cell_type": "markdown",
   "metadata": {},
   "source": [
    "Wzorzec jest bardzo krótki, więć różnice w czasie wykonania są bardzo nieznaczne, jednak podejście naiwne wychodzi najgorzej (tak jak możnaby oczekiwać)"
   ]
  },
  {
   "cell_type": "markdown",
   "metadata": {},
   "source": [
    "### Porównaj czasy wyszukiwania \"kruszwil\" w wikipedii"
   ]
  },
  {
   "cell_type": "code",
   "execution_count": 12,
   "metadata": {},
   "outputs": [],
   "source": [
    "def readwiki(file=\"wiki.txt\", pat=\"kruszwil\"):\n",
    "    resna=[]\n",
    "    stna = time.process_time()\n",
    "    with open(file) as txt_file:\n",
    "        for line in txt_file:\n",
    "            resna += naive(line, pat)\n",
    "    enna = time.process_time()\n",
    "\n",
    "    resau=[]\n",
    "    stau = time.process_time()\n",
    "    alf = set(np.unique([x for x in pat]))\n",
    "    mov = trans(pat, alf)\n",
    "    with open(file) as txt_file:\n",
    "        for line in txt_file:\n",
    "            resau += auto(line, pat, alf=alf, mov=mov)\n",
    "    enau = time.process_time()\n",
    "\n",
    "    reskm=[]\n",
    "    stkm = time.process_time()\n",
    "    ps = pre(pat)\n",
    "    with open(file) as txt_file:\n",
    "        for line in txt_file:\n",
    "            reskm += kmp(line, pat, ps=ps)\n",
    "    enkm = time.process_time()\n",
    "\n",
    "    print(f\"naive {enna-stna} {len(resna)}\")\n",
    "    print(f\"automat {enau-stau} {len(resau)}\")\n",
    "    print(f\"kmp {enkm-stkm} {len(reskm)}\")"
   ]
  },
  {
   "cell_type": "markdown",
   "metadata": {},
   "source": [
    "Funkcja readwiki - przyjmuje jako argument nazwę pliku (domyślnie \"wiki.txt\") i wzorzec do wyszukania (domyślnie \"kruszwil\"), liczy czas i wypisuje czasy i liczby wyników, dla każdego algorytmu, przechodząc plik po jednej linii"
   ]
  },
  {
   "cell_type": "code",
   "execution_count": 13,
   "metadata": {},
   "outputs": [
    {
     "name": "stdout",
     "output_type": "stream",
     "text": [
      "naive 67.443785846 13\n",
      "automat 49.494618493000004 13\n",
      "kmp 62.969511069000006 13\n"
     ]
    }
   ],
   "source": [
    "readwiki()"
   ]
  },
  {
   "cell_type": "markdown",
   "metadata": {},
   "source": [
    "Jak widać, już dla takiego przykładu podejście naiwne działa najwolniej. Co prawda różnica jest nieznaczna, ze względu małą liczbę wzorców w tekście i \"nietypowe\" słowo, którego początek rzadko kiedy występuje razem nawet w innych słowach"
   ]
  },
  {
   "cell_type": "markdown",
   "metadata": {},
   "source": [
    "### Zaproponuj tekst oraz wzorzec, dla którego zmierzony czas działania algorytmów 2 oraz 3 będzie co najmniej 2-krotnie krótszy niż dla algorytmu naiwnego."
   ]
  },
  {
   "cell_type": "code",
   "execution_count": 14,
   "metadata": {},
   "outputs": [
    {
     "name": "stdout",
     "output_type": "stream",
     "text": [
      "naive 2.425235743999991 450000\n",
      "automat 0.2840591689999883 450000\n",
      "kmp 0.26842023099999324 450000\n"
     ]
    }
   ],
   "source": [
    "txt = \"a\"*500000\n",
    "pat = \"a\"*50001\n",
    "times(txt, pat)"
   ]
  },
  {
   "cell_type": "markdown",
   "metadata": {},
   "source": [
    "Dla tekstu zawierającego wzorzec dużo razy (albo prawie wzorzec), i długiego wzorca algorytmy kmp i automat skończony są dużo szybsze od podejścia naiwnego"
   ]
  },
  {
   "cell_type": "markdown",
   "metadata": {},
   "source": [
    "### Zaproponuj wzorzec, dla którego zmierzony czas obliczenia tablicy przejścia automatu skończonego będzie co najmniej dwukrotnie dłuższy, niż czas potrzebny na utworzenie funkcji przejścia w algorytmie KMP."
   ]
  },
  {
   "cell_type": "code",
   "execution_count": 15,
   "metadata": {},
   "outputs": [
    {
     "name": "stdout",
     "output_type": "stream",
     "text": [
      "automat 0.0012072780000096373\n",
      "kmp 2.547599999047634e-05\n"
     ]
    }
   ],
   "source": [
    "pat = \"abcdefghijklmnopqrstuvwxyz1234567890-=+[]_';/..,ABCDEFGHIJKLMNOPQRSTUVWXYZ!@#$%^&*()~`\"\n",
    "creation(pat)"
   ]
  },
  {
   "cell_type": "markdown",
   "metadata": {},
   "source": [
    "Jak widać na przykładzie, czas utworzenia tablicy przejścia automatu skończonego jest mocno zależny o rozmiaru alfabetu, przez co na różnorodnych wzorcach, o dużych alfabetach będzie on konstruowany dłużej."
   ]
  }
 ],
 "metadata": {
  "kernelspec": {
   "display_name": "Python 3",
   "language": "python",
   "name": "python3"
  },
  "language_info": {
   "codemirror_mode": {
    "name": "ipython",
    "version": 3
   },
   "file_extension": ".py",
   "mimetype": "text/x-python",
   "name": "python",
   "nbconvert_exporter": "python",
   "pygments_lexer": "ipython3",
   "version": "3.7.4"
  }
 },
 "nbformat": 4,
 "nbformat_minor": 2
}
