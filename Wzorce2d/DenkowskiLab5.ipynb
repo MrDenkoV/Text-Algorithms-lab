{
 "cells": [
  {
   "cell_type": "markdown",
   "metadata": {},
   "source": [
    "# Laboratorium 5\n",
    "### Przeszukiwanie wzorca 2d"
   ]
  },
  {
   "cell_type": "markdown",
   "metadata": {},
   "source": [
    "### 1. Zaimplementuj algorytm wyszukiwania wzorca 2-wymiarowego"
   ]
  },
  {
   "cell_type": "code",
   "execution_count": 1,
   "metadata": {},
   "outputs": [],
   "source": [
    "class Node(object):\n",
    "    ix=0\n",
    "    def __init__(self):\n",
    "        self.next = {}\n",
    "        self.fail = None\n",
    "        self.ends = -1\n",
    "        self.ix = Node.ix\n",
    "        Node.ix += 1\n",
    "        \n",
    "        \n",
    "    def prin(self, indent=0):\n",
    "        print(\"%s%d %s%s\"%(' '*indent, self.ix, self.next.keys(), '' if self.ends==-1 else '-'+str(self.ends)))\n",
    "        if self.fail is not None:\n",
    "            print(\"fail \", self.fail.ix)\n",
    "        for kid in self.next:\n",
    "            print(kid)\n",
    "            self.next[kid].prin(indent+1)\n",
    "\n",
    "\n",
    "class Aho(object):\n",
    "    def __init__(self):\n",
    "        Node.ix = 0\n",
    "        self.__root = Node()\n",
    "        self.__cols = []\n",
    "        self.__wid = 0\n",
    "        self.__hei = 0\n",
    "\n",
    "        \n",
    "    def add2dPattern(self, pattern):\n",
    "        self.__wid = len(pattern[0])\n",
    "        self.__hei = len(pattern)\n",
    "        for i in range(len(pattern[0])):\n",
    "            tmp = self.__root\n",
    "            for j in range(len(pattern)):\n",
    "                tmp = tmp.next.setdefault(pattern[j][i], Node())\n",
    "            tmp.ends=i if tmp.ends==-1 else tmp.ends\n",
    "            self.__cols.append(tmp.ends)\n",
    "        \n",
    "\n",
    "    def make(self):\n",
    "        tmpQueue = list()\n",
    "        tmpQueue.append(self.__root)\n",
    "        while len(tmpQueue) > 0:\n",
    "            temp = tmpQueue.pop()\n",
    "            p = None\n",
    "            for k, v in temp.next.items():\n",
    "                if temp == self.__root:\n",
    "                    temp.next[k].fail = self.__root\n",
    "                else:\n",
    "                    p = temp.fail\n",
    "                    while p is not None:\n",
    "                        if k in p.next:\n",
    "                            temp.next[k].fail = p.next[k]\n",
    "                            break\n",
    "                        p = p.fail\n",
    "                    if p is None:\n",
    "                        temp.next[k].fail = self.__root\n",
    "                tmpQueue.append(temp.next[k])\n",
    "\n",
    "                \n",
    "    def fill2d(self, text):\n",
    "        res = [[0 for i in range(len(text[0]))] for j in range(len(text))]\n",
    "        for i in range(len(text[0])):\n",
    "            cur = self.__root\n",
    "            for j in range(len(text)):\n",
    "                if text[j][i] not in cur.next:\n",
    "                    while cur is not self.__root and text[j][i] not in cur.next:\n",
    "                        cur = cur.fail\n",
    "                    if text[j][i] in cur.next:\n",
    "                        cur = cur.next[text[j][i]]\n",
    "                else:\n",
    "                    cur = cur.next[text[j][i]]\n",
    "                res[j][i] = cur.ends\n",
    "        return res\n",
    "    \n",
    "    \n",
    "    def __find(self, text, le):\n",
    "        res = []\n",
    "        for i in range(len(text)):\n",
    "            cur = self.__root\n",
    "            for j in range(len(text[0])):\n",
    "                if text[i][j] not in cur.next:\n",
    "                    while cur is not self.__root and text[i][j] not in cur.next:\n",
    "                        cur = cur.fail\n",
    "                    if text[i][j] in cur.next:\n",
    "                        cur = cur.next[text[i][j]]\n",
    "                else:\n",
    "                    cur = cur.next[text[i][j]]\n",
    "                if cur.ends != -1:\n",
    "                    res.append((i, j))\n",
    "        return res\n",
    "    \n",
    "    \n",
    "    def find(self, text):\n",
    "        res = self.fill2d(text)\n",
    "        tmp = Aho()\n",
    "        pat = [[i] for i in self.__cols]\n",
    "#         print(pat)\n",
    "        tmp.add2dPattern(pat)\n",
    "        tmp.make()\n",
    "#         tmp.prin()\n",
    "        wyn = tmp.__find(res, len(self.__cols))\n",
    "        tot = []\n",
    "        for x, y in wyn:\n",
    "            tot.append((x-self.__hei+1, y-self.__wid+1))\n",
    "        return tot\n",
    "        \n",
    "        \n",
    "    def prin(self):\n",
    "        print(self.__cols)\n",
    "        self.__root.prin()"
   ]
  },
  {
   "cell_type": "code",
   "execution_count": 2,
   "metadata": {
    "scrolled": false
   },
   "outputs": [],
   "source": [
    "ah = Aho()\n",
    "ah.add2dPattern([\"abcabc\",\"abcacc\",\"abcade\"])\n",
    "ah.make()\n",
    "# ah.prin()\n",
    "txt=[\"pabcasdt\",\"gabcabcx\",\"gabcaccz\",\"gabcadeh\",\"uikmnryt\"]\n",
    "res = ah.fill2d(txt)"
   ]
  },
  {
   "cell_type": "code",
   "execution_count": 3,
   "metadata": {},
   "outputs": [
    {
     "name": "stdout",
     "output_type": "stream",
     "text": [
      "pabcasdt\n",
      "gabcabcx\n",
      "gabcaccz\n",
      "gabcadeh\n",
      "uikmnryt\n"
     ]
    },
    {
     "data": {
      "text/plain": [
       "[[-1, -1, -1, -1, -1, -1, -1, -1],\n",
       " [-1, -1, -1, -1, -1, -1, -1, -1],\n",
       " [-1, 0, 1, 2, 0, -1, -1, -1],\n",
       " [-1, 0, 1, 2, 0, 4, 5, -1],\n",
       " [-1, -1, -1, -1, -1, -1, -1, -1]]"
      ]
     },
     "execution_count": 3,
     "metadata": {},
     "output_type": "execute_result"
    }
   ],
   "source": [
    "print('\\n'.join(txt))\n",
    "res"
   ]
  },
  {
   "cell_type": "code",
   "execution_count": 4,
   "metadata": {},
   "outputs": [
    {
     "data": {
      "text/plain": [
       "[(1, 1)]"
      ]
     },
     "execution_count": 4,
     "metadata": {},
     "output_type": "execute_result"
    }
   ],
   "source": [
    "ah.find(txt)"
   ]
  },
  {
   "cell_type": "markdown",
   "metadata": {},
   "source": [
    "### 2. Znajdź w załączonym pliku \"haystack.txt\" wszyskie sytuacje, gdy taka sama litera występuje na tej samej pozycji w dwóch kolejnych linijkach. Zwróć uwagę, na nierówną długość linii w pliku."
   ]
  },
  {
   "cell_type": "code",
   "execution_count": 5,
   "metadata": {
    "scrolled": true
   },
   "outputs": [],
   "source": [
    "def find2chars(simple=True):\n",
    "    with open(\"haystack.txt\", 'r') as file:\n",
    "        lines = file.readlines()\n",
    "        res=[]\n",
    "        if simple:\n",
    "            for i in range(len(lines)-1):\n",
    "                for j in range(min(len(lines[i]), len(lines[i+1]))):\n",
    "                    if ((lines[i][j]>='a' and lines[i][j]<='z') or (lines[i][j]>='A' and lines[i][j]<='Z')) and\\\n",
    "                                lines[i][j]==lines[i+1][j]:\n",
    "                        res.append(((i,j),(i+1, j)))\n",
    "            print(len(res))\n",
    "            f=True\n",
    "            for a, b in res:\n",
    "                if lines[a[0]][a[1]] != lines[b[0]][b[1]]:\n",
    "                    f=False\n",
    "                    print((a,b), lines[a[0]][a[1]], lines[b[0]][b[1]])\n",
    "            if f:\n",
    "                print(\"OK\")\n",
    "            else:\n",
    "                print(\"Not OK\")\n",
    "        else:\n",
    "            maks=0\n",
    "            for i in range(len(lines)):\n",
    "                maks=max(maks, len(lines[i]))\n",
    "            for i in range(len(lines)):\n",
    "                lines[i]+='#'*(maks-len(lines[i]))\n",
    "            \n",
    "            small = [chr(x) for x in range(ord('a'), ord('z') + 1)]\n",
    "            great = [chr(x) for x in range(ord('A'), ord('Z') + 1)]\n",
    "            \n",
    "            for char in small+great:\n",
    "                ah = Aho()\n",
    "                ah.add2dPattern([[char], [char]])\n",
    "                ah.make()\n",
    "                res += ah.find(lines)\n",
    "            \n",
    "            print(len(res))\n",
    "            f=True\n",
    "            for a, b in res:\n",
    "                if lines[a][b] != lines[a+1][b]:\n",
    "                    f=False\n",
    "                    print(((a,b), (a+1,b)), lines[a][b], lines[a+1][b])\n",
    "            \n",
    "            if f:\n",
    "                print(\"OK\")\n",
    "            else:\n",
    "                print(\"Not OK\")"
   ]
  },
  {
   "cell_type": "code",
   "execution_count": 6,
   "metadata": {},
   "outputs": [
    {
     "name": "stdout",
     "output_type": "stream",
     "text": [
      "235\n",
      "OK\n"
     ]
    }
   ],
   "source": [
    "find2chars(True)"
   ]
  },
  {
   "cell_type": "code",
   "execution_count": 7,
   "metadata": {},
   "outputs": [
    {
     "name": "stdout",
     "output_type": "stream",
     "text": [
      "235\n",
      "OK\n"
     ]
    }
   ],
   "source": [
    "find2chars(False)"
   ]
  },
  {
   "cell_type": "markdown",
   "metadata": {},
   "source": [
    "### 3. Znajdź wszystkie wystąpienia \"th\" oraz \"t h\" w dwóch kolejnych liniach na tej samej pozycji."
   ]
  },
  {
   "cell_type": "code",
   "execution_count": 8,
   "metadata": {},
   "outputs": [],
   "source": [
    "def findth():\n",
    "    with open(\"haystack.txt\", 'r') as file:\n",
    "        lines = file.readlines()\n",
    "        res=[]\n",
    "        maks=0\n",
    "        for i in range(len(lines)):\n",
    "            maks=max(maks, len(lines[i]))\n",
    "        for i in range(len(lines)):\n",
    "            lines[i]+='#'*(maks-len(lines[i]))\n",
    "\n",
    "        ah = Aho()\n",
    "        ah.add2dPattern(['th', 'th'])\n",
    "        ah.make()\n",
    "        res += ah.find(lines)\n",
    "        \n",
    "        ah = Aho()\n",
    "        ah.add2dPattern(['t h', 't h'])\n",
    "        ah.make()\n",
    "        res += ah.find(lines)\n",
    "\n",
    "        print(len(res))\n",
    "        print(res)"
   ]
  },
  {
   "cell_type": "code",
   "execution_count": 9,
   "metadata": {},
   "outputs": [
    {
     "name": "stdout",
     "output_type": "stream",
     "text": [
      "1\n",
      "[(37, 0)]\n"
     ]
    }
   ],
   "source": [
    "findth()"
   ]
  },
  {
   "cell_type": "markdown",
   "metadata": {},
   "source": [
    "### 4. Wybierz przynajmniej 4 litery (małe). Znajdź wszystkie wystąpienia tej litery w załączonym pliku \"haystack.png\""
   ]
  },
  {
   "cell_type": "code",
   "execution_count": 10,
   "metadata": {},
   "outputs": [],
   "source": [
    "def find4lettxt(letters=['x','q','y','v']):\n",
    "    with open(\"haystack.txt\", 'r') as file:\n",
    "#         lines = base64.b64encode(file.read())\n",
    "        lines = file.readlines()\n",
    "        tot=[]\n",
    "        maks=0\n",
    "#         print(lines)\n",
    "#         return\n",
    "        for i in range(len(lines)):\n",
    "            maks=max(maks, len(lines[i]))\n",
    "        for i in range(len(lines)):\n",
    "            lines[i]+='#'*(maks-len(lines[i]))\n",
    "    \n",
    "        for char in letters:\n",
    "            res = []\n",
    "            ah = Aho()\n",
    "            ah.add2dPattern([char])\n",
    "            ah.make()\n",
    "            res += ah.find(lines)\n",
    "            tot += res\n",
    "            print(char, len(res), res)\n",
    "        print(len(tot), tot)"
   ]
  },
  {
   "cell_type": "code",
   "execution_count": 11,
   "metadata": {},
   "outputs": [
    {
     "name": "stdout",
     "output_type": "stream",
     "text": [
      "x 57 [(1, 13), (3, 14), (3, 26), (4, 47), (5, 38), (6, 32), (7, 31), (8, 28), (8, 47), (9, 36), (9, 46), (13, 14), (20, 5), (22, 54), (23, 72), (27, 53), (28, 68), (29, 68), (30, 37), (31, 4), (31, 67), (32, 11), (32, 66), (33, 47), (34, 23), (36, 39), (38, 49), (41, 79), (43, 40), (43, 74), (45, 26), (46, 73), (47, 9), (48, 20), (49, 22), (50, 19), (53, 19), (57, 55), (58, 51), (59, 28), (59, 77), (60, 74), (61, 55), (64, 19), (65, 56), (66, 63), (68, 47), (69, 59), (71, 5), (72, 9), (74, 55), (76, 52), (79, 14), (80, 54), (81, 12), (81, 58), (82, 72)]\n",
      "q 11 [(2, 28), (2, 66), (5, 20), (9, 15), (15, 33), (27, 60), (27, 78), (30, 12), (53, 77), (66, 50), (77, 72)]\n",
      "y 65 [(0, 39), (0, 78), (1, 24), (1, 57), (3, 64), (4, 58), (4, 71), (5, 63), (6, 58), (7, 27), (8, 42), (8, 78), (9, 39), (11, 60), (11, 69), (13, 41), (14, 63), (15, 39), (16, 1), (18, 56), (21, 68), (21, 77), (23, 76), (24, 51), (24, 67), (25, 70), (30, 31), (36, 14), (36, 46), (40, 45), (42, 34), (42, 79), (43, 18), (43, 52), (44, 5), (44, 57), (45, 5), (45, 46), (48, 10), (49, 56), (50, 25), (53, 73), (55, 1), (60, 13), (61, 43), (61, 65), (62, 25), (62, 59), (64, 26), (64, 56), (65, 63), (66, 38), (66, 43), (66, 56), (67, 1), (70, 46), (70, 61), (74, 74), (76, 70), (77, 77), (80, 75), (82, 56), (83, 13), (83, 24), (83, 51)]\n",
      "v 30 [(4, 3), (7, 70), (11, 66), (15, 7), (24, 64), (25, 67), (28, 15), (30, 26), (31, 32), (32, 33), (32, 36), (35, 55), (36, 70), (47, 78), (51, 7), (53, 36), (53, 70), (54, 80), (55, 18), (56, 59), (57, 0), (58, 35), (63, 37), (64, 42), (66, 40), (67, 31), (69, 11), (70, 56), (80, 5), (81, 25)]\n",
      "163 [(1, 13), (3, 14), (3, 26), (4, 47), (5, 38), (6, 32), (7, 31), (8, 28), (8, 47), (9, 36), (9, 46), (13, 14), (20, 5), (22, 54), (23, 72), (27, 53), (28, 68), (29, 68), (30, 37), (31, 4), (31, 67), (32, 11), (32, 66), (33, 47), (34, 23), (36, 39), (38, 49), (41, 79), (43, 40), (43, 74), (45, 26), (46, 73), (47, 9), (48, 20), (49, 22), (50, 19), (53, 19), (57, 55), (58, 51), (59, 28), (59, 77), (60, 74), (61, 55), (64, 19), (65, 56), (66, 63), (68, 47), (69, 59), (71, 5), (72, 9), (74, 55), (76, 52), (79, 14), (80, 54), (81, 12), (81, 58), (82, 72), (2, 28), (2, 66), (5, 20), (9, 15), (15, 33), (27, 60), (27, 78), (30, 12), (53, 77), (66, 50), (77, 72), (0, 39), (0, 78), (1, 24), (1, 57), (3, 64), (4, 58), (4, 71), (5, 63), (6, 58), (7, 27), (8, 42), (8, 78), (9, 39), (11, 60), (11, 69), (13, 41), (14, 63), (15, 39), (16, 1), (18, 56), (21, 68), (21, 77), (23, 76), (24, 51), (24, 67), (25, 70), (30, 31), (36, 14), (36, 46), (40, 45), (42, 34), (42, 79), (43, 18), (43, 52), (44, 5), (44, 57), (45, 5), (45, 46), (48, 10), (49, 56), (50, 25), (53, 73), (55, 1), (60, 13), (61, 43), (61, 65), (62, 25), (62, 59), (64, 26), (64, 56), (65, 63), (66, 38), (66, 43), (66, 56), (67, 1), (70, 46), (70, 61), (74, 74), (76, 70), (77, 77), (80, 75), (82, 56), (83, 13), (83, 24), (83, 51), (4, 3), (7, 70), (11, 66), (15, 7), (24, 64), (25, 67), (28, 15), (30, 26), (31, 32), (32, 33), (32, 36), (35, 55), (36, 70), (47, 78), (51, 7), (53, 36), (53, 70), (54, 80), (55, 18), (56, 59), (57, 0), (58, 35), (63, 37), (64, 42), (66, 40), (67, 31), (69, 11), (70, 56), (80, 5), (81, 25)]\n"
     ]
    }
   ],
   "source": [
    "find4lettxt()"
   ]
  },
  {
   "cell_type": "code",
   "execution_count": 12,
   "metadata": {},
   "outputs": [],
   "source": [
    "import base64"
   ]
  },
  {
   "cell_type": "code",
   "execution_count": 13,
   "metadata": {},
   "outputs": [],
   "source": [
    "def find4letpng(letters=['x','q','y','v']):\n",
    "    with open(\"haystack.png\", 'br') as file:\n",
    "        lines = base64.b64encode(file.read())\n",
    "#         lines = file.readlines()\n",
    "        tot=[]\n",
    "        maks=0\n",
    "#         for i in range(len(lines)):\n",
    "#             maks=max(maks, len(lines[i]))\n",
    "#         for i in range(len(lines)):\n",
    "#             lines[i]+='#'*(maks-len(lines[i]))\n",
    "    \n",
    "        for char in letters:\n",
    "            res = []\n",
    "            ah = Aho()\n",
    "            ah.add2dPattern([char])\n",
    "            ah.make()\n",
    "            res += ah.find([lines])\n",
    "            tot += res\n",
    "            print(char, len(res), res)\n",
    "        print(len(tot), tot)"
   ]
  },
  {
   "cell_type": "code",
   "execution_count": 14,
   "metadata": {
    "scrolled": false
   },
   "outputs": [
    {
     "name": "stdout",
     "output_type": "stream",
     "text": [
      "x 0 []\n",
      "q 0 []\n",
      "y 0 []\n",
      "v 0 []\n",
      "0 []\n"
     ]
    }
   ],
   "source": [
    "find4letpng()"
   ]
  },
  {
   "cell_type": "code",
   "execution_count": 15,
   "metadata": {},
   "outputs": [],
   "source": [
    "from PIL import Image\n",
    "import numpy as np"
   ]
  },
  {
   "cell_type": "code",
   "execution_count": 16,
   "metadata": {},
   "outputs": [],
   "source": [
    "def find4letpngobrazek(letters=['x', 'q', 'y', 'v']):\n",
    "    img = Image.open('haystack.png')\n",
    "    img = img.convert('1')\n",
    "    haystack = np.array(img).tolist()\n",
    "    for letter in letters:\n",
    "        res = []\n",
    "        let = Image.open(letter+'.png').convert('1')\n",
    "        let = np.array(let).tolist()\n",
    "        ah = Aho()\n",
    "        ah.add2dPattern(let)\n",
    "        ah.make()\n",
    "        res += ah.find(haystack)\n",
    "        print(letter, len(res), res)"
   ]
  },
  {
   "cell_type": "code",
   "execution_count": 17,
   "metadata": {
    "scrolled": true
   },
   "outputs": [
    {
     "name": "stdout",
     "output_type": "stream",
     "text": [
      "x 50 [(102, 139), (102, 238), (124, 419), (146, 342), (168, 297), (190, 314), (212, 254), (212, 410), (234, 366), (234, 447), (322, 146), (476, 70), (520, 486), (630, 464), (696, 361), (718, 63), (718, 596), (740, 120), (740, 602), (762, 421), (784, 241), (828, 372), (872, 458), (938, 708), (982, 660), (1026, 272), (1070, 112), (1092, 212), (1114, 210), (1136, 175), (1202, 195), (1290, 521), (1312, 474), (1334, 266), (1334, 704), (1356, 675), (1378, 515), (1444, 195), (1466, 537), (1488, 573), (1532, 441), (1554, 561), (1598, 75), (1620, 101), (1664, 519), (1708, 489), (1774, 156), (1818, 120), (1818, 566), (1840, 660)]\n",
      "q 1 [(630, 517)]\n",
      "y 4 [(190, 278), (212, 678), (498, 710), (960, 339)]\n",
      "v 8 [(124, 53), (190, 689), (740, 310), (806, 503), (1202, 345), (1554, 123), (1576, 535), (1818, 248)]\n"
     ]
    }
   ],
   "source": [
    "find4letpngobrazek()"
   ]
  },
  {
   "cell_type": "markdown",
   "metadata": {},
   "source": [
    "Niestety nie znajduje wszystkich możliwości, prawdopodobnie jest to spowodowane nienajlepiej wyciętymi obrazkami(chciałem zostawić białą otoczkę pixeli dookoła całego znaku), możliwe że znaki z przodu, tyłu u góry lub u dołu, mogą nachodzić na fragment i stąd wynikają niezgodności."
   ]
  },
  {
   "cell_type": "code",
   "execution_count": 18,
   "metadata": {
    "scrolled": true
   },
   "outputs": [
    {
     "name": "stdout",
     "output_type": "stream",
     "text": [
      "x1 0 []\n",
      "q1 1 [(631, 518)]\n",
      "y1 12 [(37, 357), (103, 572), (125, 516), (191, 279), (213, 679), (235, 389), (389, 34), (499, 711), (961, 340), (983, 166), (1005, 524), (1247, 34)]\n",
      "v1 8 [(125, 54), (191, 690), (741, 311), (807, 504), (1203, 346), (1555, 124), (1577, 536), (1819, 249)]\n"
     ]
    }
   ],
   "source": [
    "find4letpngobrazek(['x1', 'q1', 'y1', 'v1'])"
   ]
  },
  {
   "cell_type": "markdown",
   "metadata": {},
   "source": [
    "W niektórych przypadkach obcięcie obwódki nie zaszkodziło, a nawet pomogło, jednak z jakiegoś powodu przy x przeszkodziło, może to być spowodowane modyfikacją i uszkodzeniem pliku podczas obróki w programie graficznym."
   ]
  },
  {
   "cell_type": "markdown",
   "metadata": {},
   "source": [
    "### 5. Znajdź wszystkie wystąpienia słowa \"p a t t e r n\" w haystack.png."
   ]
  },
  {
   "cell_type": "code",
   "execution_count": 19,
   "metadata": {},
   "outputs": [],
   "source": [
    "def findpattxt(pattern=['p a t t e r n']):\n",
    "    with open(\"haystack.txt\", 'r') as file:\n",
    "        lines = file.readlines()\n",
    "        res=[]\n",
    "        maks=0\n",
    "        for i in range(len(lines)):\n",
    "            maks=max(maks, len(lines[i]))\n",
    "        for i in range(len(lines)):\n",
    "            lines[i]+='#'*(maks-len(lines[i]))\n",
    "        \n",
    "        ah = Aho()\n",
    "        ah.add2dPattern(pattern)\n",
    "        ah.make()\n",
    "        res += ah.find(lines)\n",
    "        print(len(res), res)"
   ]
  },
  {
   "cell_type": "code",
   "execution_count": 20,
   "metadata": {},
   "outputs": [
    {
     "name": "stdout",
     "output_type": "stream",
     "text": [
      "5 [(20, 17), (21, 44), (23, 25), (25, 13), (27, 25)]\n"
     ]
    }
   ],
   "source": [
    "findpattxt()"
   ]
  },
  {
   "cell_type": "code",
   "execution_count": 21,
   "metadata": {},
   "outputs": [],
   "source": [
    "def findpatpng(pattern=['p a t t e r n']):\n",
    "    with open(\"haystack.png\", 'rb') as file:\n",
    "        lines = base64.b64encode(file.read())\n",
    "#         lines = file.readlines()\n",
    "        res=[]\n",
    "        maks=0\n",
    "        \n",
    "        ah = Aho()\n",
    "        ah.add2dPattern(pattern)\n",
    "        ah.make()\n",
    "        res += ah.find([lines])\n",
    "        print(len(res), res)"
   ]
  },
  {
   "cell_type": "code",
   "execution_count": 22,
   "metadata": {
    "scrolled": true
   },
   "outputs": [
    {
     "name": "stdout",
     "output_type": "stream",
     "text": [
      "0 []\n"
     ]
    }
   ],
   "source": [
    "findpatpng()"
   ]
  },
  {
   "cell_type": "code",
   "execution_count": 23,
   "metadata": {},
   "outputs": [],
   "source": [
    "def find4patpngobrazek(file='pattern'):\n",
    "    img = Image.open('haystack.png')\n",
    "    img = img.convert('1')\n",
    "    haystack = np.array(img).tolist()\n",
    "    res = []\n",
    "    let = Image.open(file+'.png').convert('1')\n",
    "    let = np.array(let).tolist()\n",
    "    ah = Aho()\n",
    "    ah.add2dPattern(let)\n",
    "    ah.make()\n",
    "    res += ah.find(haystack)\n",
    "    print(file, len(res), res)"
   ]
  },
  {
   "cell_type": "code",
   "execution_count": 24,
   "metadata": {},
   "outputs": [
    {
     "name": "stdout",
     "output_type": "stream",
     "text": [
      "pattern 1 [(627, 247)]\n"
     ]
    }
   ],
   "source": [
    "find4patpngobrazek()"
   ]
  },
  {
   "cell_type": "markdown",
   "metadata": {},
   "source": [
    "Niestety nie znajduje wszystkich możliwości, prawdopodobnie jest to spowodowane nienajlepiej wyciętymi obrazkami(chciałem zostawić białą otoczkę pixeli dookoła całego 'p a t t e r n'), możliwe że znaki z przodu, tyłu u góry lub u dołu, mogą nachodzić na fragment i stąd wynikają niezgodności."
   ]
  },
  {
   "cell_type": "code",
   "execution_count": 25,
   "metadata": {},
   "outputs": [
    {
     "name": "stdout",
     "output_type": "stream",
     "text": [
      "patt 0 []\n"
     ]
    }
   ],
   "source": [
    "find4patpngobrazek(\"patt\")"
   ]
  },
  {
   "cell_type": "markdown",
   "metadata": {},
   "source": [
    "Obcięcie otoczki w tym przypadku z jakiegoś powodu zaszkodziło, możliwe że jakieś uszkodzenie wynikające z obcinania obrazka narzędziem graficznym."
   ]
  },
  {
   "cell_type": "markdown",
   "metadata": {},
   "source": [
    "### 6. Porównaj czas budowania automatu i czas wyszukiwania dla różnych rozmiarów wzorca"
   ]
  },
  {
   "cell_type": "code",
   "execution_count": 26,
   "metadata": {},
   "outputs": [],
   "source": [
    "import timeit"
   ]
  },
  {
   "cell_type": "code",
   "execution_count": 27,
   "metadata": {},
   "outputs": [],
   "source": [
    "def test():\n",
    "    with open(\"haystack.txt\", 'r') as file:\n",
    "        lines = file.readlines()\n",
    "        res=[]\n",
    "        maks=0\n",
    "        for i in range(len(lines)):\n",
    "            maks=max(maks, len(lines[i]))\n",
    "        for i in range(len(lines)):\n",
    "            lines[i]+='#'*(maks-len(lines[i]))\n",
    "        \n",
    "        text1 = [\"T h e search of words or p a t t e r n s in static texts is quite a\",\n",
    "                 \"t h a n the previous pattern-matching mechanism. Dictionaries, for \",\n",
    "                 \"are organized in order to speed u p the access to entries. Another \",\n",
    "                 \"of the same question is given by indexes. Technical books often con\",\n",
    "                 \"index of chosen terms t h a t gives pointers to p a r t s of the te\",\n",
    "                 \"in the index. T h e algorithms involved in the creation of an index\",\n",
    "                 \"specific group. T h e use of dictionaries or lexicons is often rela\",\n",
    "                 \"language processing. Lexicons of programming languages are small, a\",\n",
    "                 \"representation is not a difficult problem during the development of\",\n",
    "                 \"To the contrary, English contains approximately 100,000 words, a n \",\n",
    "                 \"t h a t if inflected forms are considered. In French, inflected for\",\n",
    "                 \"t h a n 700,000 words. T h e representation of lexicons of this siz\"]\n",
    "        text2 = [\"T H e\", \"t h a\"]\n",
    "        \n",
    "        print(\"Making longer pattern\")\n",
    "        ah = Aho()\n",
    "        %timeit index = ah.add2dPattern(text1)\n",
    "        %timeit index = ah.make()\n",
    "        print(\"Finidng longer pattern\")\n",
    "        %timeit index = ah.find(lines)\n",
    "        \n",
    "        print(\"Making shorter pattern\")\n",
    "        ah = Aho()\n",
    "        %timeit index = ah.add2dPattern(text2)\n",
    "        %timeit index = ah.make()\n",
    "        print(\"Finding shorter pattern\")\n",
    "        %timeit index = ah.find(lines)\n",
    "        "
   ]
  },
  {
   "cell_type": "code",
   "execution_count": 28,
   "metadata": {
    "scrolled": true
   },
   "outputs": [
    {
     "name": "stdout",
     "output_type": "stream",
     "text": [
      "Making longer pattern\n",
      "886 µs ± 7.44 µs per loop (mean ± std. dev. of 7 runs, 1000 loops each)\n",
      "729 µs ± 9.08 µs per loop (mean ± std. dev. of 7 runs, 1000 loops each)\n",
      "Finidng longer pattern\n",
      "1.29 s ± 9.45 ms per loop (mean ± std. dev. of 7 runs, 1 loop each)\n",
      "Making shorter pattern\n",
      "14.8 µs ± 145 ns per loop (mean ± std. dev. of 7 runs, 100000 loops each)\n",
      "7.5 µs ± 63.2 ns per loop (mean ± std. dev. of 7 runs, 100000 loops each)\n",
      "Finding shorter pattern\n",
      "10.1 s ± 501 ms per loop (mean ± std. dev. of 7 runs, 1 loop each)\n"
     ]
    }
   ],
   "source": [
    "test()"
   ]
  },
  {
   "cell_type": "markdown",
   "metadata": {},
   "source": [
    "Jak widać krótszy wzorzec robi się dużo krócej, jednak jest wyszukiwany dłużej"
   ]
  },
  {
   "cell_type": "markdown",
   "metadata": {},
   "source": [
    "### 7. Podziel plik na 2, 4 i 8 fragmentów (w poziomie) i porównaj czas przeszukiwania"
   ]
  },
  {
   "cell_type": "code",
   "execution_count": 29,
   "metadata": {},
   "outputs": [],
   "source": [
    "def testparts():\n",
    "    with open(\"haystack.txt\", 'r') as file:\n",
    "        lines = file.readlines()\n",
    "        res=[]\n",
    "        maks=0\n",
    "        for i in range(len(lines)):\n",
    "            maks=max(maks, len(lines[i]))\n",
    "        for i in range(len(lines)):\n",
    "            lines[i]+='#'*(maks-len(lines[i]))\n",
    "        \n",
    "        text  = [\"T h e search of words or p a t t e r n s in static texts is quite a\",\n",
    "                 \"t h a n the previous pattern-matching mechanism. Dictionaries, for \",\n",
    "                 \"are organized in order to speed u p the access to entries. Another \",\n",
    "                 \"of the same question is given by indexes. Technical books often con\",\n",
    "                 \"index of chosen terms t h a t gives pointers to p a r t s of the te\",\n",
    "                 \"in the index. T h e algorithms involved in the creation of an index\"]\n",
    "        \n",
    "        print(\"Making pattern\")\n",
    "        ah = Aho()\n",
    "        %timeit index = ah.add2dPattern(text1)\n",
    "        %timeit index = ah.make()\n",
    "        print(\"Finidng:\")\n",
    "        %timeit index = ah.find(lines)\n",
    "        print(\"Finding in halves:\")\n",
    "        %timeit index = ah.find(lines[:len(lines)//2])\n",
    "        %timeit index = ah.find(lines[len(lines)//2:])\n",
    "        print(\"Finding in quarters:\")\n",
    "        %timeit index = ah.find(lines[:len(lines)//4])\n",
    "        %timeit index = ah.find(lines[len(lines)//4:len(lines)//2])\n",
    "        %timeit index = ah.find(lines[len(lines)//2:3*len(lines)//4])\n",
    "        %timeit index = ah.find(lines[3*len(lines)//4:])\n",
    "        print(\"Finding in eighths:\")\n",
    "        for i in range(8):\n",
    "            %timeit index = ah.find(lines[i*len(lines)//8:(i+1)*len(lines)//8])"
   ]
  },
  {
   "cell_type": "code",
   "execution_count": 30,
   "metadata": {
    "scrolled": false
   },
   "outputs": [
    {
     "name": "stdout",
     "output_type": "stream",
     "text": [
      "Making pattern\n",
      "917 µs ± 7.96 µs per loop (mean ± std. dev. of 7 runs, 1000 loops each)\n",
      "733 µs ± 8.07 µs per loop (mean ± std. dev. of 7 runs, 1000 loops each)\n",
      "Finidng:\n",
      "1.47 s ± 180 ms per loop (mean ± std. dev. of 7 runs, 1 loop each)\n",
      "Finding in halves:\n",
      "1.65 s ± 159 ms per loop (mean ± std. dev. of 7 runs, 1 loop each)\n",
      "1.43 s ± 73.4 ms per loop (mean ± std. dev. of 7 runs, 1 loop each)\n",
      "Finding in quarters:\n",
      "1.35 s ± 50 ms per loop (mean ± std. dev. of 7 runs, 1 loop each)\n",
      "1.3 s ± 46.3 ms per loop (mean ± std. dev. of 7 runs, 1 loop each)\n",
      "1.34 s ± 45.7 ms per loop (mean ± std. dev. of 7 runs, 1 loop each)\n",
      "1.28 s ± 3.52 ms per loop (mean ± std. dev. of 7 runs, 1 loop each)\n",
      "Finding in eighths:\n",
      "1.29 s ± 8.6 ms per loop (mean ± std. dev. of 7 runs, 1 loop each)\n",
      "1.28 s ± 5.19 ms per loop (mean ± std. dev. of 7 runs, 1 loop each)\n",
      "1.29 s ± 16.5 ms per loop (mean ± std. dev. of 7 runs, 1 loop each)\n",
      "1.28 s ± 5.51 ms per loop (mean ± std. dev. of 7 runs, 1 loop each)\n",
      "1.3 s ± 48 ms per loop (mean ± std. dev. of 7 runs, 1 loop each)\n",
      "1.29 s ± 16.4 ms per loop (mean ± std. dev. of 7 runs, 1 loop each)\n",
      "1.28 s ± 3.19 ms per loop (mean ± std. dev. of 7 runs, 1 loop each)\n",
      "1.31 s ± 53.4 ms per loop (mean ± std. dev. of 7 runs, 1 loop each)\n"
     ]
    }
   ],
   "source": [
    "testparts()"
   ]
  },
  {
   "cell_type": "markdown",
   "metadata": {},
   "source": [
    "Jak widać długość tekstu przeszukiwanego z jakiegoś powodu ma mały wpływ długość przeszukiwania."
   ]
  }
 ],
 "metadata": {
  "kernelspec": {
   "display_name": "Python 3",
   "language": "python",
   "name": "python3"
  },
  "language_info": {
   "codemirror_mode": {
    "name": "ipython",
    "version": 3
   },
   "file_extension": ".py",
   "mimetype": "text/x-python",
   "name": "python",
   "nbconvert_exporter": "python",
   "pygments_lexer": "ipython3",
   "version": "3.7.7"
  }
 },
 "nbformat": 4,
 "nbformat_minor": 4
}
