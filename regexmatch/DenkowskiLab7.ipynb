{
 "cells": [
  {
   "cell_type": "markdown",
   "metadata": {},
   "source": [
    "# Laboratorium 7\n",
    "### Regex"
   ]
  },
  {
   "cell_type": "code",
   "execution_count": 1,
   "metadata": {},
   "outputs": [],
   "source": [
    "import numpy as np"
   ]
  },
  {
   "cell_type": "code",
   "execution_count": 2,
   "metadata": {},
   "outputs": [],
   "source": [
    "def trans(pattern, alf):\n",
    "    mov = [{} for i in range(len(pattern)+1)]\n",
    "    for i in alf:\n",
    "        mov[0][i] = 0\n",
    "    mov[0][pattern[0]] = 1\n",
    "    lps = 0\n",
    "    for i in range(1, len(pattern)+1):\n",
    "        for x in alf:\n",
    "            mov[i][x] = mov[lps][x]\n",
    "        if i < len(pattern):\n",
    "            mov[i][pattern[i]] = i+1\n",
    "            lps = mov[lps][pattern[i]]\n",
    "    return mov\n",
    "\n",
    "\n",
    "def auto(source, pattern, alf=set(), mov=[]):\n",
    "    if len(alf)==0:\n",
    "        alf = set(np.unique([x for x in pattern]))\n",
    "    if len(mov)==0:\n",
    "        mov = trans(pattern, alf)\n",
    "    q = 0\n",
    "    ans = []\n",
    "    for s in range(0, len(source)):\n",
    "        if source[s] not in alf:\n",
    "            q = 0\n",
    "        else:\n",
    "            q = mov[q][source[s]]\n",
    "            if q == len(mov)-1:\n",
    "                ans += [s+1-q]\n",
    "    return ans"
   ]
  },
  {
   "cell_type": "markdown",
   "metadata": {},
   "source": [
    "Wykorzystując ten kod, z laboratorium 1 na automat skończony wyszukujący wzorzec w tekście, zmienimy go by Matchował - sprawdzał czy cały napis pasuje do wyrażenia."
   ]
  },
  {
   "cell_type": "markdown",
   "metadata": {},
   "source": [
    "1. Zaimplementuj algorytm wyszukiwania wyrażeń regularnych. Wyrażenie może zawierać:\n",
    "    - litery, cyfry i spacje - traktować literalnie (sine qua non)\n",
    "    - kropki - reprezentuje dowolny znak (1 pkt)\n",
    "    - operatory: gwiazdkę - 0 lub więcej powtórzeń poprzedniego symbolu, plus - 1 lub więcej powtórzeń, pytajnik - 0 lub 1 powtórzenie (1.5 pkt.)\n",
    "    - nawiasy - na potrzeby operatorów gwiazdki, plusa i pytajnika zawartość nawiasów jest pojedynczym symbolem; nawiasy mogą być zagnieżdżone; nawiasy po których nie występuje żaden z wymienionych operatorów nie mają skutku (1 pkt)\n",
    "    - klasy znaków (albo dowolna liczba znaków wymieniona w nawiasach kwadratowych, albo oznaczenie klasy, typu \\d) (1.5 pkt.)\n",
    "\n",
    "Możesz założyć, że wprowadzone wyrażenie jest poprawne.\\\n",
    "Można przyjąć, że robimy matcher (sprawdzanie czy dane wejście należy do automatu utworzonego dzięki regexowi), a nie wyszukiwanie regexów - (tak zrobimy)."
   ]
  },
  {
   "cell_type": "markdown",
   "metadata": {},
   "source": [
    "Pomysły:\n",
    "- Traktowanie znaków i szukanie już mamy zrobione, teraz tylko zmodyfikować by tymi znakami traktowanymi literalnie były litery, cyfry i znaki.\n",
    "- Dla . trzeba dodać przejście (podobne jak pozostałe), które odpowiada wszystkim znakom\n",
    "- Dla znaków:\n",
    "    - Dla gwiazdki dodamy dwa dodatkowe przejścia - jedno pomijające stan odpowiadający znaku i jedno powracające do tego samego stanu\n",
    "    - Dla plusa dodamy jedno przejście - powracające do tego samego stanu i licznik kontrolujący liczbę przejść\n",
    "    - Dla pytajnika są dwie możliwości, więc wywołamy się na jednej i drugiej.\n",
    "- Dla nawiasów trzeba pamiętać i zrobić przejście do jego początku - niestety niezrobione.\n",
    "- Dla klasy znaków wystarczy dodać odpowiednie znaki do przejść.\n",
    "- Dla ułatwienia, kosztem złożoności, możemy matchować z backtrackingiem."
   ]
  },
  {
   "cell_type": "markdown",
   "metadata": {},
   "source": [
    "Dodatkowo zauważmy zależności między \\* i +. + to 1 lub więcej powtórzeń, a * to 0 lub więcej powtórzeń, więc (x+) <=> (xx\\*) .\\\n",
    "Zakładam, że .\\* oznacza dowolne znaki 0 lub więcej powtórzeń, a nie dowolny znak(ale konkretnie 1) i jego 0 lub więcej powtórzeń."
   ]
  },
  {
   "cell_type": "code",
   "execution_count": 3,
   "metadata": {},
   "outputs": [],
   "source": [
    "lowerCase=[chr(i) for i in range(ord('a'), ord('z')+1)]\n",
    "upperCase=[chr(i) for i in range(ord('A'), ord('Z')+1)]\n",
    "letters=lowerCase+upperCase\n",
    "digits=[chr(i+ord('0')) for i in range(0, 10)]\n",
    "space=[' ']\n",
    "literal = letters+digits+space\n",
    "operators = {'*', '+', '?'}"
   ]
  },
  {
   "cell_type": "code",
   "execution_count": 4,
   "metadata": {},
   "outputs": [],
   "source": [
    "def oneOf(pattern, i):\n",
    "    assert pattern[i]=='['\n",
    "    i+=1\n",
    "    acc = []\n",
    "    while pattern[i]!=']': # Zakladajac poprawnosc zawsze bedzie nawias zamykajacy\n",
    "        acc.append(pattern[i])\n",
    "        i+=1\n",
    "    return acc, i\n",
    "    \n",
    "\n",
    "def groups(pattern, i):\n",
    "    if pattern[i]=='.':\n",
    "        return literal, i\n",
    "    assert pattern[i]=='\\\\'\n",
    "    i+=1\n",
    "    acc=[]\n",
    "    if pattern[i]=='d':\n",
    "        acc=digits\n",
    "    elif pattern[i]=='D':\n",
    "        acc=letters+space\n",
    "    elif pattern[i]=='w': # dla 'W' to po prostu spacja w naszym przypadku\n",
    "        acc=letters+digits\n",
    "    else: # zakladam poprawnosc wiec tutaj nie powinno nigdy dojsc, mozna doimplementowac wiecej grup\n",
    "        acc=literal\n",
    "    return acc, i\n",
    "\n",
    "\n",
    "def getAcc(pattern, i):\n",
    "    if pattern[i] in {'.', '\\\\'}:\n",
    "        return groups(pattern, i)\n",
    "    elif pattern[i]=='[':\n",
    "        return oneOf(pattern, i)\n",
    "    else:\n",
    "        return [pattern[i]], i\n",
    "\n",
    "    \n",
    "def parse(pattern):\n",
    "    for i in range(1, len(pattern)):\n",
    "        if pattern[i] in operators:\n",
    "            if pattern[i] == '+':\n",
    "                if pattern[i-1]==']':\n",
    "                    ix = i-2\n",
    "                    while pattern[ix] != '[': # zakladam poprawnosc, wiec zawsze bedzie [\n",
    "                        ix-=1\n",
    "                    pattern = pattern[:i]+pattern[ix:i]+'*'+pattern[i+1:]\n",
    "                elif i-2>=0 and pattern[i-2]=='\\\\':\n",
    "                    pattern = pattern[:i]+pattern[i-2:i]+'*'+pattern[i+1:]\n",
    "                else:\n",
    "                    pattern = pattern[:i]+pattern[i-1]+'*'+pattern[i+1:]\n",
    "    return pattern\n",
    "    \n",
    "    \n",
    "def getop(c):\n",
    "    assert c in {'*', '?'}\n",
    "    return c\n",
    "    \n",
    "    \n",
    "def build(pattern):\n",
    "    pattern = parse(pattern)\n",
    "    mov = [{}]\n",
    "    acc, ix = getAcc(pattern, 0)\n",
    "    if ix+1<len(pattern) and pattern[ix+1] in operators:\n",
    "        typ = getop(pattern[ix+1])\n",
    "        for i in acc:\n",
    "            mov[-1][i] = (1, typ)\n",
    "        ix+=1\n",
    "    else:\n",
    "        for i in acc:\n",
    "            mov[0][i] = 1\n",
    "    ix += 1\n",
    "    lps = 0\n",
    "    while ix<len(pattern):\n",
    "        mov.append({})\n",
    "        acc, ix = getAcc(pattern, ix)\n",
    "        if ix+1<len(pattern) and pattern[ix+1] in operators:\n",
    "            typ = getop(pattern[ix+1])\n",
    "            for i in acc:\n",
    "                mov[-1][i] = (len(mov), typ)\n",
    "            ix+=1\n",
    "        else:\n",
    "            for i in acc:\n",
    "                mov[-1][i] = len(mov)\n",
    "        ix+=1\n",
    "    return mov\n",
    "\n",
    "\n",
    "def find(txt, tix, mov, mix):\n",
    "    if type(mix) == tuple:\n",
    "        if mix[1]=='?': # wszedlem tu bo juz sie raz cos powtorzylo, idziemy dalej\n",
    "            return find(txt, tix, mov, mix[0])\n",
    "        if find(txt, tix, mov, mix[0]):\n",
    "            return True\n",
    "        if tix<len(txt) and txt[tix] in mov[mix[0]-1]:\n",
    "            return find(txt, tix+1, mov, mix) # sprawdzamy dalej, zakladajac ze ciag z * sie skonczyl lub nie\n",
    "        return False\n",
    "    \n",
    "    if len(txt)==tix and len(mov)==mix:\n",
    "        return True\n",
    "    elif len(txt)==tix:\n",
    "        if type(list(mov[mix].items())[0][1]) == tuple:\n",
    "            return find(txt, tix, mov, mix+1)\n",
    "        return False\n",
    "    elif len(mov)==mix:\n",
    "        return False\n",
    "    \n",
    "    if txt[tix] not in mov[mix]:\n",
    "        if type(list(mov[mix].items())[0][1]) == tuple: # jesli byl operator *, +, ? to wszystkie elementy beda tuplami, wiec wybieram dowolny\n",
    "            return find(txt, tix, mov, mix+1) # poprzedni znak sie nie powtarza\n",
    "        else:\n",
    "            return False\n",
    "    return find(txt, tix+1, mov, mov[mix][txt[tix]])\n",
    "    \n",
    "\n",
    "def regex(source, pattern, mov=None):\n",
    "    if mov is None:\n",
    "        mov = build(pattern)#, alf)\n",
    "    return find(source, 0, mov, 0)"
   ]
  },
  {
   "cell_type": "markdown",
   "metadata": {},
   "source": [
    "Udało się zaimplementować:\n",
    "- Traktowanie literalne wymaganych znaków (bardzo łatwo zmienić jakie te znaki powinny być)\n",
    "- Kropka - dowolny znak\n",
    "- Klasy znaków - w nawiasach kwadratowych i typu \\d (dokładnie: \\d, \\D, \\w, można łatwo dodać więcej klas)\n",
    "- Specjalne znaki *, + i ?, oraz ich specjalne działanie\\\n",
    "Testy poniżej."
   ]
  },
  {
   "cell_type": "code",
   "execution_count": 5,
   "metadata": {},
   "outputs": [
    {
     "name": "stdout",
     "output_type": "stream",
     "text": [
      "True\n",
      "True\n",
      "True\n",
      "True\n",
      "True\n",
      "True\n"
     ]
    }
   ],
   "source": [
    "txt = \"122 and OTH\"\n",
    "print(regex(txt, '\\d\\d\\d.\\w\\w\\w.\\w\\w\\w')==True)\n",
    "print(regex(txt, '\\d\\d\\d.\\wa\\w.\\w\\w\\w')==False)\n",
    "print(regex(txt, '\\d\\D\\d.\\w.\\w..\\w\\w')==False)\n",
    "print(regex(txt, txt)==True)\n",
    "print(regex(txt, '12...n\\w\\D[czxOsad]T[12312 Hasd]')==True)\n",
    "print(regex(txt, '12...n\\w\\D[czxOsad]T[12312 hasd]')==False)"
   ]
  },
  {
   "cell_type": "markdown",
   "metadata": {},
   "source": [
    "Jak widać matcher przechodzi testy na ., [dowolne znaki] i klasy(typu \\d)."
   ]
  },
  {
   "cell_type": "code",
   "execution_count": 6,
   "metadata": {},
   "outputs": [
    {
     "name": "stdout",
     "output_type": "stream",
     "text": [
      "True\n",
      "True\n",
      "True\n",
      "True\n",
      "True\n",
      "True\n",
      "True\n",
      "True\n",
      "True\n",
      "True\n",
      "True\n",
      "True\n",
      "True\n",
      "True\n",
      "True\n",
      "True\n",
      "True\n",
      "True\n",
      "True\n",
      "True\n",
      "True\n"
     ]
    }
   ],
   "source": [
    "print(regex('aaaaaaaaa', 'a*')==True)\n",
    "print(regex('aaaaaaaaa', 'a*b*a+')==True)\n",
    "print(regex('aaaaaaaaa', 'a?a*')==True)\n",
    "print(regex('adasdjaksdb', 'a.*b')==True)\n",
    "print(regex('aaaaaaaaa', 'a?c*')==False)\n",
    "print(regex('adasdjaksdb', 'a.*a?a?.*b')==True)\n",
    "print(regex('', 'a?a?')==True)\n",
    "print(regex('a', 'a?a?')==True)\n",
    "print(regex('aa', 'a?a?')==True)\n",
    "print(regex('aaa', 'a?a?')==False)\n",
    "print(regex('aaa', 'a*a?')==True)\n",
    "print(regex('aaaa', 'a*a')==True)\n",
    "\n",
    "print(regex('123123', '\\d+')==True)\n",
    "print(regex('123123', '\\d?')==False)\n",
    "print(regex('123123', '\\w+')==True)\n",
    "print(regex('1231adsasd3', '\\w+')==True)\n",
    "print(regex('1231sadasd23', '\\d+')==False)\n",
    "print(regex('123123', '[123]+')==True)\n",
    "print(regex('1234123', '[123]+')==False)\n",
    "print(regex('1', '[123]?')==True)\n",
    "print(regex('123', '[123]?')==False)"
   ]
  },
  {
   "cell_type": "markdown",
   "metadata": {},
   "source": [
    "Jak widać matcher przechodzi testy na \\*, + i ? . Nawet w połączeniu z poprzednio sprawdzonymi opcjami(., klasy i [rozne znaki])"
   ]
  },
  {
   "cell_type": "markdown",
   "metadata": {},
   "source": [
    "Podsumowując, udało się zrobić matcher sprawdzający czy cały napis pasuje do wyrażenia, umożliwiający skorzystanie z takich opcji:\n",
    "- literalne traktowanie liter, cyfr i spacji\n",
    "- kropki - reprezentuje dowolny znak\n",
    "- operatory * - 0 lub więcej powtórzeń poprzedniego wyrażenia, + - 1 lub więcej powtórzeń, ? - 0 lub 1 powtórzenie\n",
    "- klasy znaków (znaki zapisane w [], lub oznaczenia klasy typu \\d, \\D, \\w)."
   ]
  }
 ],
 "metadata": {
  "kernelspec": {
   "display_name": "Python 3",
   "language": "python",
   "name": "python3"
  },
  "language_info": {
   "codemirror_mode": {
    "name": "ipython",
    "version": 3
   },
   "file_extension": ".py",
   "mimetype": "text/x-python",
   "name": "python",
   "nbconvert_exporter": "python",
   "pygments_lexer": "ipython3",
   "version": "3.7.7"
  }
 },
 "nbformat": 4,
 "nbformat_minor": 4
}
