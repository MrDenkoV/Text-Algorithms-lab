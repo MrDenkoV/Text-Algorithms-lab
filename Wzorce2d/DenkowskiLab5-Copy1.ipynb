{
 "cells": [
  {
   "cell_type": "markdown",
   "metadata": {},
   "source": [
    "# Laboratorium 5\n",
    "### Przeszukiwanie wzorca 2d"
   ]
  },
  {
   "cell_type": "code",
   "execution_count": 68,
   "metadata": {},
   "outputs": [],
   "source": [
    "from collections import deque"
   ]
  },
  {
   "cell_type": "code",
   "execution_count": 70,
   "metadata": {},
   "outputs": [],
   "source": [
    "class trieNode:\n",
    "    root=None\n",
    "    def __init__(self, char=None, parent=None, kids=None):\n",
    "        self.kids = kids if kids is not None else dict()\n",
    "        self.parent = parent if parent is not None else self\n",
    "        self.fail = dict()\n",
    "        self.char = char\n",
    "        self.ends = []\n",
    "        \n",
    "    def setParent(self, parent):\n",
    "        self.parent = parent\n",
    "        \n",
    "    def addKid(self, char, kid):\n",
    "        self.kids[char] = kid\n",
    "        \n",
    "    def getKid(self, char):\n",
    "        if char not in self.kids:\n",
    "            return None\n",
    "        return self.kids[char]\n",
    "    \n",
    "    def addFail(self, char, kid):\n",
    "        self.fail[char] = kid\n",
    "    \n",
    "    def getFail(self, char):\n",
    "        if char not in self.fails:\n",
    "            return None\n",
    "        return self.fails[char]\n",
    "    \n",
    "    def addEnd(self, col):\n",
    "        self.ends.append(col)\n",
    "    \n",
    "    def prin(self, indent=0):\n",
    "        print(\"%s%s%s\"%(' '*indent, self.char, '' if len(self.ends)==0 else '-'+str(self.ends)))\n",
    "        for kid in self.kids:\n",
    "            self.kids[kid].prin(indent+1)"
   ]
  },
  {
   "cell_type": "code",
   "execution_count": 62,
   "metadata": {},
   "outputs": [],
   "source": [
    "class Trie:\n",
    "    def __init__(self, pattern):\n",
    "        trieNode.root = trieNode()\n",
    "        self.root = trieNode.root\n",
    "        self.trie = self.build(pattern)\n",
    "        \n",
    "    def build(self, pattern):\n",
    "        for i in range(len(pattern[0])):\n",
    "            current = trieNode.root\n",
    "            for j in range(len(pattern)):\n",
    "                nex = current.getKid(pattern[j][i])\n",
    "                if nex is None:\n",
    "                    new = trieNode(char=pattern[j][i], parent=current)\n",
    "                    current.addKid(char=pattern[j][i], kid=new)\n",
    "                    nex = new\n",
    "                current = nex\n",
    "            current.addEnd(i)\n",
    "        S = set()\n",
    "        for i in range(len(pattern)):\n",
    "            S |= set(list(pattern[i]))\n",
    "        self.addFails(list(S))\n",
    "        \n",
    "    def addFails(self, chars):\n",
    "        Q = deque()\n",
    "        for char in chars:\n",
    "            selr.root.addFail()\n",
    "            \n",
    "#         Q.append(self.root)\n",
    "        while Q:\n",
    "            cur = Q.popleft()\n",
    "            for kid in self.kids:\n",
    "                Q.append(self.kids[kid])\n",
    "            for char in chars:\n",
    "                new = cur.getKid(char)\n",
    "                while new is None:\n",
    "                    failed = cur.parent.getFail(char)\n",
    "                    \n",
    "    \n",
    "    def find(text):\n",
    "        pass"
   ]
  },
  {
   "cell_type": "code",
   "execution_count": 65,
   "metadata": {},
   "outputs": [],
   "source": [
    "tri = Trie(['abcaaaa','abcddaa','abcdeaa'])"
   ]
  },
  {
   "cell_type": "code",
   "execution_count": 66,
   "metadata": {},
   "outputs": [
    {
     "name": "stdout",
     "output_type": "stream",
     "text": [
      "None\n",
      " a\n",
      "  a\n",
      "   a-[0, 5, 6]\n",
      "  d\n",
      "   d-[3]\n",
      "   e-[4]\n",
      " b\n",
      "  b\n",
      "   b-[1]\n",
      " c\n",
      "  c\n",
      "   c-[2]\n"
     ]
    }
   ],
   "source": [
    "tri.root.prin()"
   ]
  },
  {
   "cell_type": "code",
   "execution_count": null,
   "metadata": {},
   "outputs": [],
   "source": []
  },
  {
   "cell_type": "code",
   "execution_count": null,
   "metadata": {},
   "outputs": [],
   "source": []
  },
  {
   "cell_type": "code",
   "execution_count": 71,
   "metadata": {},
   "outputs": [],
   "source": [
    "class Node(object):\n",
    "    def __init__(self):\n",
    "        self.next = {}\n",
    "        self.fail = None\n",
    "        self.isWord = False\n",
    "\n",
    "\n",
    "class Ahocorasick(object):\n",
    "    def __init__(self):\n",
    "        self.__root = Node()\n",
    "\n",
    "    def addWord(self, word):\n",
    "        tmp = self.__root\n",
    "        for char in word:\n",
    "            tmp = tmp.next.setdefault(char, Node())\n",
    "        tmp.isWord = True\n",
    "\n",
    "    def make(self):\n",
    "        tmpQueue = list()\n",
    "        tmpQueue.append(self.__root)\n",
    "        while len(tmpQueue) > 0:\n",
    "            temp = tmpQueue.pop()\n",
    "            p = None\n",
    "            for k, v in temp.next.items():\n",
    "                if temp == self.__root:\n",
    "                    temp.next[k].fail = self.__root\n",
    "                else:\n",
    "                    p = temp.fail\n",
    "                    while p is not None:\n",
    "                        if k in p.next:\n",
    "                            temp.next[k].fail = p.next[k]\n",
    "                            break\n",
    "                        p = p.fail\n",
    "                    if p is None:\n",
    "                        temp.next[k].fail = self.__root\n",
    "                tmpQueue.append(temp.next[k])\n",
    "\n",
    "    "
   ]
  },
  {
   "cell_type": "code",
   "execution_count": 72,
   "metadata": {},
   "outputs": [],
   "source": [
    "ah = Ahocorasick()"
   ]
  },
  {
   "cell_type": "code",
   "execution_count": 73,
   "metadata": {},
   "outputs": [
    {
     "name": "stdout",
     "output_type": "stream",
     "text": [
      "[(2, 3), (2, 4), (3, 4), (5, 7), (5, 8), (6, 7), (6, 8), (7, 8), (8, 9)]\n"
     ]
    }
   ],
   "source": [
    "x = [\"CD\", \"CDH\", \"CCDH\", \"HY\", 'DH', 'CCD']\n",
    "for i in x:\n",
    "    ah.addWord(i)\n",
    "ah.make()\n",
    "text = ['G', 'G', 'C', 'D', 'H', 'C', 'C', 'D', 'H', 'Y']\n",
    "res = ah.search(text)\n",
    "print(res)"
   ]
  },
  {
   "cell_type": "code",
   "execution_count": null,
   "metadata": {},
   "outputs": [],
   "source": []
  }
 ],
 "metadata": {
  "kernelspec": {
   "display_name": "Python 3",
   "language": "python",
   "name": "python3"
  },
  "language_info": {
   "codemirror_mode": {
    "name": "ipython",
    "version": 3
   },
   "file_extension": ".py",
   "mimetype": "text/x-python",
   "name": "python",
   "nbconvert_exporter": "python",
   "pygments_lexer": "ipython3",
   "version": "3.7.4"
  }
 },
 "nbformat": 4,
 "nbformat_minor": 4
}
