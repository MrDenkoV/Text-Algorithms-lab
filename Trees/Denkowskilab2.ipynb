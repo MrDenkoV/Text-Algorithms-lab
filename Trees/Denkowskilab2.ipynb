{
 "cells": [
  {
   "cell_type": "markdown",
   "metadata": {},
   "source": [
    "# Laboratorium 2"
   ]
  },
  {
   "cell_type": "markdown",
   "metadata": {},
   "source": [
    "##### 1. Dane wejściowe:"
   ]
  },
  {
   "cell_type": "code",
   "execution_count": 1,
   "metadata": {},
   "outputs": [],
   "source": [
    "inputs = [\"bbb$\",\n",
    "            \"aabbabd\",\n",
    "            \"ababcd\",\n",
    "           \"abcbccd\"]\n",
    "f = open(\"1997_714.txt\", \"r\")\n",
    "inputs.append(f.read())\n",
    "f.close()"
   ]
  },
  {
   "cell_type": "markdown",
   "metadata": {},
   "source": [
    "##### 2. Upewnij się że każdy łańcuch kończy się unikalnie (ew. dodając nowy znak)"
   ]
  },
  {
   "cell_type": "code",
   "execution_count": 2,
   "metadata": {},
   "outputs": [
    {
     "name": "stdout",
     "output_type": "stream",
     "text": [
      "Ends uniquely? True\n",
      "Ends uniquely? True\n",
      "Ends uniquely? True\n",
      "Ends uniquely? True\n",
      "Ends uniquely? True\n"
     ]
    }
   ],
   "source": [
    "uniq = \"$~`|@#%^&*πœ©ß←↓→þł²³¢≠€½«»ðæŋ’ə…µ\" # zakładam, że te znaki starczą\n",
    "\n",
    "for ix, txt in enumerate(inputs):\n",
    "#     print(ord(txt[-1]), txt[-1])\n",
    "    if txt[-1] in txt[:-1]:\n",
    "        for char in uniq:\n",
    "            if char not in txt:\n",
    "                inputs[ix]+=char\n",
    "                break\n",
    "\n",
    "for txt in inputs:\n",
    "    print(f\"Ends uniquely? {txt[-1] not in txt[:-1]}\")\n",
    "    \n",
    "file=inputs[-1]\n",
    "given=inputs"
   ]
  },
  {
   "cell_type": "code",
   "execution_count": 3,
   "metadata": {},
   "outputs": [],
   "source": [
    "import copy"
   ]
  },
  {
   "cell_type": "code",
   "execution_count": 4,
   "metadata": {},
   "outputs": [],
   "source": [
    "given = copy.deepcopy(inputs)"
   ]
  },
  {
   "cell_type": "markdown",
   "metadata": {},
   "source": [
    "##### 3. Zaimplemenuje algorytm konstruujący trie sufiksów"
   ]
  },
  {
   "cell_type": "code",
   "execution_count": 5,
   "metadata": {},
   "outputs": [],
   "source": [
    "class trienode:\n",
    "    def __init__(self, label, depth, parent=None, kids=None):\n",
    "        self.label=label\n",
    "        self.parent=parent\n",
    "        self.kids={} if kids==None else kids\n",
    "        self.link=None\n",
    "        self.depth=depth\n",
    "        \n",
    "    def add(self, child):\n",
    "        assert child.label not in self.kids\n",
    "        self.kids[child.label]=child\n",
    "        return child\n",
    "    \n",
    "    def find(self, txt):\n",
    "        if len(txt)==0:\n",
    "            return True\n",
    "        elif txt[0] in self.kids:\n",
    "            return self.kids[txt[0]].find(txt[1:])\n",
    "        else:\n",
    "            return False\n",
    "        \n",
    "    def pri(self):\n",
    "        print(f\"Depth: {self.depth} Labeld: {self.label} Kids: \", end=\"\")\n",
    "        for kid in self.kids:\n",
    "            print(self.kids[kid].label, end=\" \")\n",
    "        print(\"\\n\")\n",
    "        for kid in self.kids:\n",
    "            self.kids[kid].pri()"
   ]
  },
  {
   "cell_type": "code",
   "execution_count": 6,
   "metadata": {},
   "outputs": [],
   "source": [
    "class TRIE:\n",
    "    def __init__(self, txt):\n",
    "        self.root=trienode(\"\", 0)\n",
    "        self.root.link=self.root\n",
    "        self.make(txt)\n",
    "    \n",
    "    def make(self, txt):\n",
    "        head=self.root\n",
    "        for i in range(len(txt)):\n",
    "#             print(head.depth, head.label)\n",
    "            leaf = self.add(head, txt[head.depth+i:])\n",
    "            head = self.find(leaf)\n",
    "            \n",
    "    def add(self, head, txt):\n",
    "        leaf=head\n",
    "#         print(head.depth, head.label, txt)\n",
    "        for i in range(len(txt)):\n",
    "            leaf = leaf.add(trienode(txt[i], leaf.depth+1, leaf))\n",
    "        return leaf\n",
    "    \n",
    "    def find(self, sib):\n",
    "        stack = []\n",
    "        while sib.link is None: # up\n",
    "            stack.append(sib.label)\n",
    "            sib = sib.parent\n",
    "            \n",
    "        head = sib.link\n",
    "        if sib is self.root: # no links on path\n",
    "            self.root.kids[stack[-1]].link = self.root\n",
    "            sib = self.root.kids[stack.pop()]\n",
    "        while len(stack)>0 and stack[-1] in head.kids: # down\n",
    "            head = head.kids[stack[-1]]\n",
    "            sib = sib.kids[stack.pop()]\n",
    "            sib.link = head\n",
    "        return head\n",
    "    \n",
    "    def contains(self, txt):\n",
    "        return self.root.find(txt)"
   ]
  },
  {
   "cell_type": "code",
   "execution_count": 7,
   "metadata": {},
   "outputs": [
    {
     "name": "stdout",
     "output_type": "stream",
     "text": [
      "True True False True True True\n"
     ]
    }
   ],
   "source": [
    "trie = TRIE(\"aabbabbc\")\n",
    "print(trie.contains(\"aabb\"), trie.contains(\"abba\"), trie.contains(\"abbb\"), trie.contains(\"abb\"), trie.contains(\"bbc\"), trie.contains(\"bab\"))\n",
    "# trie.root.pri()"
   ]
  },
  {
   "cell_type": "markdown",
   "metadata": {},
   "source": [
    "##### 4. Zaimplementuj alorytm konstruujący drzewo sufiksów w oparciu o algorytm McCreighta"
   ]
  },
  {
   "cell_type": "code",
   "execution_count": 8,
   "metadata": {},
   "outputs": [],
   "source": [
    "class sufnode:\n",
    "    def __init__(self, parent=None, frm=0, to=0):\n",
    "        self.kids = {} # char indexing\n",
    "        self.parent = parent\n",
    "        self.link = None\n",
    "        self.frm = frm\n",
    "        self.to = to\n",
    "    \n",
    "    def add(self, frm, to):\n",
    "        kid = sufnode(self, frm, to)\n",
    "        self[suftree.txt[frm]]=kid\n",
    "        return kid\n",
    "    \n",
    "    def split(self, split):\n",
    "        if split==self.to:\n",
    "            return\n",
    "        frm = self.frm\n",
    "        to = self.to\n",
    "        self.to = split\n",
    "        kid = sufnode(self, split,  to)\n",
    "        kid.kids = self.kids\n",
    "        self.kids = {}\n",
    "        self[suftree.txt[split]] = kid\n",
    "    \n",
    "    @property\n",
    "    def length(self):\n",
    "        return self.to - self.frm\n",
    "    \n",
    "    @property\n",
    "    def label(self):\n",
    "        return repr(suftree.txt[self.frm:self.to])\n",
    "    \n",
    "    def __getitem__(self, ix):\n",
    "        return self.kids.get(ix)\n",
    "    \n",
    "    def __setitem__(self, ix, kid):\n",
    "        self.kids[ix] = kid\n",
    "        \n",
    "    def __str__(self, depth=0):\n",
    "        return '%s %d %d %s\\n%s\\n%s'% (\"\\t\"*depth, self.frm, self.to, self.label,\n",
    "                                       ''.join(key for key in self.kids.keys()),\n",
    "                                   ''.join(kid.__str__(depth+1) for key, kid in self.kids.items()))"
   ]
  },
  {
   "cell_type": "code",
   "execution_count": 9,
   "metadata": {},
   "outputs": [],
   "source": [
    "class suftree:\n",
    "    txt=\"ananas\"\n",
    "    def __init__(self, txt, simp=False):\n",
    "        self.root = sufnode(txt)\n",
    "        suftree.txt = txt\n",
    "        if simp:\n",
    "            self.makesimp()\n",
    "        else:\n",
    "            self.make()\n",
    "\n",
    "    def make(self):\n",
    "        txtlen = len(suftree.txt)\n",
    "        head = self.root\n",
    "        leaf = head.add(0, txtlen)\n",
    "        for i in range(1, txtlen):\n",
    "#             print(self.root, end=\"\\n\\n\")\n",
    "            if head == self.root:\n",
    "                head, leaf = self.slowscan(head, leaf.frm+1, leaf.to)\n",
    "            else:\n",
    "                parent = head.parent\n",
    "                if parent == self.root:\n",
    "                    headsib, x = self.fastscan(parent, head.frm+1, head.to)\n",
    "                else:\n",
    "                    headsib, x = self.fastscan(parent.link, head.frm, head.to)\n",
    "                if x < headsib.to: # we need to split\n",
    "                    headsib.split(x)\n",
    "                    newhead = headsib\n",
    "                    leaf = newhead.add(leaf.frm, leaf.to)\n",
    "                else:\n",
    "                    newhead, leaf = self.slowscan(headsib, leaf.frm, leaf.to)\n",
    "                head.link = headsib\n",
    "                head = newhead\n",
    "                \n",
    "    def makesimp(self):\n",
    "        txtlen = len(suftree.txt)\n",
    "        head = self.root\n",
    "        leaf = head.add(0, txtlen)\n",
    "        for i in range(1, txtlen):\n",
    "            self.slowscan(head, i, txtlen)\n",
    "        \n",
    "\n",
    "    def fastscan(self, node, frm, to):\n",
    "        length = to - frm\n",
    "        if length==0:\n",
    "            return node, node.frm\n",
    "        tmp = node[suftree.txt[frm]]\n",
    "        if tmp is None:\n",
    "            return node, node.frm+length\n",
    "#             print(frm, to, node.label)\n",
    "        node=tmp\n",
    "        while length > node.length:\n",
    "            frm += node.length\n",
    "            length -= node.length\n",
    "            tmp = node[suftree.txt[frm]]\n",
    "            if tmp is None:\n",
    "                break\n",
    "            node=tmp\n",
    "        return node, node.frm + length\n",
    "    \n",
    "    def slowscan(self, node, frm, to):\n",
    "        if frm == to:\n",
    "            return node, node\n",
    "        \n",
    "        pos = 0\n",
    "        tmp = node[suftree.txt[frm]]\n",
    "        if tmp is None:\n",
    "            leaf = node.add(frm, to)\n",
    "            return node, leaf\n",
    "        node = tmp\n",
    "        \n",
    "#         print(\"bef \",frm, to)\n",
    "        while frm < to:\n",
    "            if node.frm + pos < node.to:\n",
    "                if suftree.txt[frm] == suftree.txt[node.frm+pos]:\n",
    "                    frm += 1\n",
    "                    pos += 1\n",
    "                else:\n",
    "                    break\n",
    "            else:\n",
    "                pos = 0\n",
    "                tmp = node[suftree.txt[frm]]\n",
    "                if tmp is None:\n",
    "                    leaf = node.add(frm, to)\n",
    "                    return node, leaf\n",
    "                node = tmp\n",
    "                \n",
    "        if pos > 0:\n",
    "            node.split(node.frm+pos)\n",
    "#         print(frm, to)\n",
    "        leaf = node.add(frm, to)\n",
    "        return node, leaf\n",
    "    \n",
    "    def contains(self, pattern):\n",
    "        ix = 0\n",
    "        head = self.root\n",
    "        while ix<len(pattern):\n",
    "            if pattern[ix] in head.kids:\n",
    "                head = head.kids[pattern[ix]]\n",
    "                if len(pattern[ix:]) < head.length:\n",
    "#                     print(suftree.txt[head.frm:head.to], pattern[ix:ix+head.length])\n",
    "                    return suftree.txt[head.frm:head.frm+len(pattern)-ix] == pattern[ix:]\n",
    "                if suftree.txt[head.frm:head.to] != pattern[ix:ix+head.length]:\n",
    "#                     print(suftree.txt[head.frm:head.to], pattern[ix:ix+head.length])\n",
    "                    return False\n",
    "                ix += head.length\n",
    "            else:\n",
    "                return False\n",
    "        return True"
   ]
  },
  {
   "cell_type": "code",
   "execution_count": 10,
   "metadata": {
    "scrolled": true
   },
   "outputs": [
    {
     "name": "stdout",
     "output_type": "stream",
     "text": [
      "True False\n",
      "True True False True True True\n"
     ]
    }
   ],
   "source": [
    "suf = suftree(\"aabbabd\")\n",
    "print(suf.contains(\"bbab\"), suf.contains(\"bbb\"))\n",
    "# print(suf.root)\n",
    "suf = suftree(\"aabbabbc\")\n",
    "# print(suf.contains(\"abba\"))\n",
    "# print(suf.root)\n",
    "print(suf.contains(\"aabb\"), suf.contains(\"abba\"), suf.contains(\"abbb\"), suf.contains(\"abb\"), suf.contains(\"bbc\"), suf.contains(\"bab\"))\n"
   ]
  },
  {
   "cell_type": "code",
   "execution_count": 11,
   "metadata": {},
   "outputs": [],
   "source": [
    "suf = suftree(\"ananas\")\n",
    "# print(suf.root)"
   ]
  },
  {
   "cell_type": "code",
   "execution_count": 12,
   "metadata": {},
   "outputs": [],
   "source": [
    "suf = suftree(inputs[4][200:300] + \"œ\", True)"
   ]
  },
  {
   "cell_type": "code",
   "execution_count": 13,
   "metadata": {},
   "outputs": [
    {
     "name": "stdout",
     "output_type": "stream",
     "text": [
      "False True\n"
     ]
    }
   ],
   "source": [
    "print(suf.contains(\"ustawa\"), suf.contains(\"USTAWA\"))"
   ]
  },
  {
   "cell_type": "code",
   "execution_count": 14,
   "metadata": {},
   "outputs": [
    {
     "data": {
      "text/plain": [
       "True"
      ]
     },
     "execution_count": 14,
     "metadata": {},
     "output_type": "execute_result"
    }
   ],
   "source": [
    "suf = suftree(inputs[4], True)\n",
    "suf.contains(\"USTAWA\")\n",
    "# print(suf.root)"
   ]
  },
  {
   "cell_type": "markdown",
   "metadata": {},
   "source": [
    "##### 5. Upewnij się że struktury są poprawne"
   ]
  },
  {
   "cell_type": "markdown",
   "metadata": {},
   "source": [
    "Poza drobnymi testami bezpośrednio po implementacji zbadam każde podsłowo czy występuje w tekście oraz czy żadne podsłowo z podmienioną literą(nieostatnią) na ostanią, nie występuje w tekście"
   ]
  },
  {
   "cell_type": "code",
   "execution_count": 15,
   "metadata": {},
   "outputs": [],
   "source": [
    "import random\n",
    "import string"
   ]
  },
  {
   "cell_type": "code",
   "execution_count": 16,
   "metadata": {},
   "outputs": [],
   "source": [
    "uniq = \"$~`|@#%^&*πœ©ß←↓→þł²³¢≠€½«»ðæŋ’ə…µ\" \n",
    "\n",
    "def uniquify(txt):\n",
    "    if txt[-1] in txt[:-1]:\n",
    "        for char in uniq:\n",
    "            if char not in txt:\n",
    "                txt+=char\n",
    "                break\n",
    "    return txt\n",
    "\n",
    "def gensubwords(txt):\n",
    "    res=[]\n",
    "    for i in range(len(txt)):\n",
    "        for j in range(i+1, len(txt)):\n",
    "            res.append(txt[i:j])\n",
    "    return res\n",
    "\n",
    "def mix(words, txt):\n",
    "    res=[]\n",
    "    for word in words:\n",
    "        if len(word)!=1:\n",
    "            word = list(word)\n",
    "            word[random.randrange(0, len(word)-1)] = txt[-1]\n",
    "            word = \"\".join(word)\n",
    "            res.append(word)\n",
    "    return res\n",
    "\n",
    "def check(true, false, txt):\n",
    "    trie = TRIE(txt)\n",
    "    suf = suftree(txt)\n",
    "    badsuf = suftree(txt, True)\n",
    "    for i in true:\n",
    "        if not (trie.contains(i) and suf.contains(i) and badsuf.contains(i)):\n",
    "            return False\n",
    "    for i in false:\n",
    "        if trie.contains(i) or suf.contains(i) or badsuf.contains(i):\n",
    "            return False\n",
    "    return True"
   ]
  },
  {
   "cell_type": "code",
   "execution_count": 17,
   "metadata": {},
   "outputs": [],
   "source": [
    "inputs.pop()#za duża ustawa\n",
    "inputs.append(''.join(random.choices(string.ascii_uppercase + string.digits, k=100)) + \"œ\")"
   ]
  },
  {
   "cell_type": "code",
   "execution_count": 18,
   "metadata": {},
   "outputs": [
    {
     "name": "stdout",
     "output_type": "stream",
     "text": [
      "bbb$\n",
      "True\n",
      "aabbabd\n",
      "True\n",
      "ababcd\n",
      "True\n",
      "abcbccd\n",
      "True\n",
      "7U21W6T08HA24ZU6RRLO1TKCDFTSG4ZG44HMTJBMQ0BXT06CU6Q5VW64A3HSFWIY0V17LNZFHDXB49EIOEVDMDS33NK9PMVUV6BZœ\n",
      "True\n",
      "RUXW2RXPVFPA0PDVGI0P7KV7JDO725MU42KZVM6ZTL4RSLZT5VUPRY691X1TZ82G2P42OMLWUPHHSRAOQFZWSUA485LET28LLK43BZKGC5XAKH3NN2TANCA76EF535Y9OINBJR2ZV76OKK3R6SC3EVYBCPI9OO04XYM80SJR9NXFDJUX8RH480JINZ5TTXLXF5VGFA93CJK4IX9EJA5OV3XSB6O45SZ0PUPLJ1SM2PL7JQ5G8W4DGCUXLS7Y976YQ3YG9O9Y38TT82N0L58F11USQBGX5QTA4YY6HAEWZXZ9œ\n",
      "True\n",
      "NPTBQVV4YF77BZALF34OAKZAIVHPWF58F9KILGPPP1F0KASXJUKVJEJCLGZUXGNQ2CS7YCSN72D292300FCBEVK85QHICOGY8VQ6GBQSZO6XRZ3IC3B5210A5ZS6P9WQEK87P8IBFTQXGMHH7G0L3CN40OOKRBXOED5KSLKG8UHH2VAPGJ8WKQ9XLF3R9Y01MG7XQXYM51PX4SVBFGZPGOM80DSAW3SX2NAA1QN1MO74JLMIW9XZDGLSK3SA9XF0EUL3852HELN2LYZILELK7MW6C23PEUSL6YSQJ2KYKDA6WWF8DM1VXCO5RQXQODB8299UCQZOR88OCUEH9D8QKOJ5A4PZSVHAPBUR3XSGB8E3KS77E5GRNXIMJLJMCG42028HYSVQPFWS908VZW7HZHYZ953RM7GD660HFUGWLPLWSR5D0Z887F9GOD02P5A16ZN59RNXOPTXGAD7OQIVKIU47WFIJRE6KSERK0YXK4BL75LLE54Fœ\n",
      "True\n"
     ]
    }
   ],
   "source": [
    "inputs.append(''.join(random.choices(string.ascii_uppercase + string.digits, k=300)) + \"œ\")\n",
    "inputs.append(''.join(random.choices(string.ascii_uppercase + string.digits, k=500)) + \"œ\")\n",
    "for txt in inputs[:]:\n",
    "    txt=uniquify(txt)\n",
    "    print(txt)\n",
    "    res = gensubwords(txt)\n",
    "    false = mix(res, txt)\n",
    "    print(check(res, false, txt))"
   ]
  },
  {
   "cell_type": "code",
   "execution_count": 19,
   "metadata": {},
   "outputs": [],
   "source": [
    "suf = suftree(''.join(random.choices(string.ascii_uppercase + string.digits, k=100000))+\"œ\")"
   ]
  },
  {
   "cell_type": "markdown",
   "metadata": {},
   "source": [
    "##### 6.Porównaj szybkość działania konstrukcji struktur dla danych z 1.\n",
    "W wariantach:\\\n",
    "a) Trie\\\n",
    "b) Drzewo sufiksów bez fast_link i elementów \"link\"\\\n",
    "c) Drzewo sufiksów z wykorzystaniem procedury fast_find"
   ]
  },
  {
   "cell_type": "markdown",
   "metadata": {},
   "source": [
    "Trie - działa zbyt wolno i zajmuje zbyt dużo pamięci więc pominiemy konstruowanie dla ustawy"
   ]
  },
  {
   "cell_type": "code",
   "execution_count": 20,
   "metadata": {},
   "outputs": [],
   "source": [
    "import time"
   ]
  },
  {
   "cell_type": "code",
   "execution_count": 21,
   "metadata": {
    "scrolled": false
   },
   "outputs": [
    {
     "name": "stdout",
     "output_type": "stream",
     "text": [
      "text with length: 4\n",
      "20.4 µs ± 1.76 µs per loop (mean ± std. dev. of 7 runs, 100000 loops each)\n",
      "text with length: 7\n",
      "45.8 µs ± 3.04 µs per loop (mean ± std. dev. of 7 runs, 10000 loops each)\n",
      "text with length: 6\n",
      "41.2 µs ± 2.98 µs per loop (mean ± std. dev. of 7 runs, 10000 loops each)\n",
      "text with length: 7\n",
      "47.4 µs ± 2.45 µs per loop (mean ± std. dev. of 7 runs, 10000 loops each)\n"
     ]
    }
   ],
   "source": [
    "for i in given[:-1]:\n",
    "    print(f\"text with length: {len(i)}\")\n",
    "    %timeit index = TRIE(i)"
   ]
  },
  {
   "cell_type": "markdown",
   "metadata": {},
   "source": [
    "Drzewo sufiksów bez optymalizacji"
   ]
  },
  {
   "cell_type": "code",
   "execution_count": 22,
   "metadata": {},
   "outputs": [
    {
     "name": "stdout",
     "output_type": "stream",
     "text": [
      "text with length: 4\n",
      "15.7 µs ± 1.11 µs per loop (mean ± std. dev. of 7 runs, 100000 loops each)\n",
      "text with length: 7\n",
      "24.1 µs ± 4.21 µs per loop (mean ± std. dev. of 7 runs, 10000 loops each)\n",
      "text with length: 6\n",
      "17.6 µs ± 2.76 µs per loop (mean ± std. dev. of 7 runs, 10000 loops each)\n",
      "text with length: 7\n",
      "18.8 µs ± 535 ns per loop (mean ± std. dev. of 7 runs, 100000 loops each)\n",
      "text with length: 246473\n",
      "4.47 s ± 81.7 ms per loop (mean ± std. dev. of 7 runs, 1 loop each)\n"
     ]
    }
   ],
   "source": [
    "for i in given:\n",
    "    print(f\"text with length: {len(i)}\")\n",
    "    %timeit index = suftree(i, True)"
   ]
  },
  {
   "cell_type": "markdown",
   "metadata": {},
   "source": [
    "Drzewo sufiksów z optymalizacją"
   ]
  },
  {
   "cell_type": "code",
   "execution_count": 23,
   "metadata": {},
   "outputs": [
    {
     "name": "stdout",
     "output_type": "stream",
     "text": [
      "text with length: 4\n",
      "14.2 µs ± 609 ns per loop (mean ± std. dev. of 7 runs, 100000 loops each)\n",
      "text with length: 7\n",
      "23.4 µs ± 143 ns per loop (mean ± std. dev. of 7 runs, 10000 loops each)\n",
      "text with length: 6\n",
      "17.3 µs ± 52.4 ns per loop (mean ± std. dev. of 7 runs, 100000 loops each)\n",
      "text with length: 7\n",
      "20.4 µs ± 125 ns per loop (mean ± std. dev. of 7 runs, 100000 loops each)\n",
      "text with length: 246473\n",
      "993 ms ± 19.3 ms per loop (mean ± std. dev. of 7 runs, 1 loop each)\n"
     ]
    }
   ],
   "source": [
    "for i in given:\n",
    "    print(f\"text with length: {len(i)}\")\n",
    "    %timeit index = suftree(i)"
   ]
  },
  {
   "cell_type": "markdown",
   "metadata": {},
   "source": [
    "Jak widać już na tak krótkich testach jest widoczna różnica między Trie a drzewami sufiksów.\\\n",
    "Co więcej, na bardzo długim tekście, jest znacząca różnica między zastosowaniem optymalizacji lub ich brakiem."
   ]
  }
 ],
 "metadata": {
  "kernelspec": {
   "display_name": "Python 3",
   "language": "python",
   "name": "python3"
  },
  "language_info": {
   "codemirror_mode": {
    "name": "ipython",
    "version": 3
   },
   "file_extension": ".py",
   "mimetype": "text/x-python",
   "name": "python",
   "nbconvert_exporter": "python",
   "pygments_lexer": "ipython3",
   "version": "3.7.4"
  }
 },
 "nbformat": 4,
 "nbformat_minor": 2
}
