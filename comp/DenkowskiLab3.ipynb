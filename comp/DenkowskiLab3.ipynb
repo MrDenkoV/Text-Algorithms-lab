{
 "cells": [
  {
   "cell_type": "markdown",
   "metadata": {},
   "source": [
    "# Laboratorium 3"
   ]
  },
  {
   "cell_type": "code",
   "execution_count": 1,
   "metadata": {},
   "outputs": [],
   "source": [
    "from bitarray import bitarray\n",
    "from copy import deepcopy\n",
    "from sortedcontainers import SortedList"
   ]
  },
  {
   "cell_type": "markdown",
   "metadata": {},
   "source": [
    "### Input"
   ]
  },
  {
   "cell_type": "code",
   "execution_count": 2,
   "metadata": {},
   "outputs": [],
   "source": [
    "names = [\"small\", \"medium\", \"big\", \"large\", \"number\"]\n",
    "inputs=[]\n",
    "for name in names:\n",
    "    f = open(name+\".txt\", \"r\")\n",
    "    inputs.append(f.read())\n",
    "    f.close()"
   ]
  },
  {
   "cell_type": "code",
   "execution_count": 3,
   "metadata": {},
   "outputs": [],
   "source": [
    "class Node:\n",
    "    def __init__(self, char='', val=0, par=None):\n",
    "        self.char=char\n",
    "        self.val=val\n",
    "        self.kids=[]\n",
    "        self.parent=par\n",
    "        \n",
    "    def update(self, add):\n",
    "        self.val+=add\n",
    "        \n",
    "    def par(self, other):\n",
    "        self.parent=other\n",
    "        \n",
    "    def kid(self, other):\n",
    "        self.kids.append(other)\n",
    "        \n",
    "    def ch(self, char):\n",
    "        self.char=char\n",
    "        \n",
    "    def __gt__(self, other):\n",
    "        return self.val<other.val\n",
    "    \n",
    "    def __str__(self, indent=0):\n",
    "        return \"%sval=%s%s\\n%s\" % (\" \"*indent, self.val, \" char=\"+self.char if len(self.kids)==0 else \"\",\n",
    "                                  ''.join(kid.__str__(indent+1) for kid in self.kids))"
   ]
  },
  {
   "cell_type": "markdown",
   "metadata": {},
   "source": [
    "# Static Huffman"
   ]
  },
  {
   "cell_type": "markdown",
   "metadata": {},
   "source": [
    "Format:\\\n",
    "Liczba unikalnych znaków - 1 bajt.\\\n",
    "Słownik występownia znaków (1 - na znak, 1 - na liczbę bitów potrzebną do przekazania długości i odpowiednia liczba na liczbę wystąpień, uzupełniona do pełnych bajtów).\\\n",
    "Liczba zer potrzebnych do uzupełnienia ostatniego bajta - 1 bajt.\\\n",
    "Całość tekstu skompresowana"
   ]
  },
  {
   "cell_type": "code",
   "execution_count": 4,
   "metadata": {},
   "outputs": [],
   "source": [
    "def countchars(txt):\n",
    "    count = dict()\n",
    "    for char in txt:\n",
    "        if char not in count:\n",
    "            count[char]=1\n",
    "        else:\n",
    "            count[char]+=1\n",
    "    return {k: v for k, v in sorted(count.items(), key=lambda x: -x[1])}"
   ]
  },
  {
   "cell_type": "code",
   "execution_count": 5,
   "metadata": {},
   "outputs": [],
   "source": [
    "def stahuff(txt):\n",
    "    count = countchars(txt)\n",
    "    trees = SortedList()\n",
    "    for char in count:\n",
    "        trees.add(Node(char, count[char]))\n",
    "    while len(trees) > 1:\n",
    "        tmp = [trees.pop(), trees.pop()]\n",
    "        tree = Node(None, tmp[0].val+tmp[1].val)\n",
    "        tree.kid(tmp[0])\n",
    "        tree.kid(tmp[1])\n",
    "#         print(tmp[0].val, tmp[1].val, tree.val)\n",
    "        tmp[0].par(tree)\n",
    "        tmp[1].par(tree)\n",
    "        trees.add(tree)\n",
    "    return trees[0]"
   ]
  },
  {
   "cell_type": "markdown",
   "metadata": {},
   "source": [
    "Funkcja stahuff - tworzy drzewo dla algorytmu statycznego huffmana"
   ]
  },
  {
   "cell_type": "code",
   "execution_count": 6,
   "metadata": {},
   "outputs": [],
   "source": [
    "def makedict(tree, res=dict(), cur=bitarray()):\n",
    "    if len(tree.kids)==0:\n",
    "        res[tree.char]=cur\n",
    "    else:\n",
    "        for ix, kid in enumerate(tree.kids):\n",
    "            tmp=deepcopy(cur)\n",
    "            tmp.append(ix)\n",
    "            makedict(kid, res, tmp)\n",
    "    return res"
   ]
  },
  {
   "cell_type": "markdown",
   "metadata": {},
   "source": [
    "Funkcja makedict - tworzy słownik, przydatny przy kompresji"
   ]
  },
  {
   "cell_type": "code",
   "execution_count": 7,
   "metadata": {},
   "outputs": [],
   "source": [
    "tree=stahuff(inputs[0])\n",
    "# tree=stahuff(\"abracadabra\")\n",
    "# print(tree)\n",
    "# print(countchars(inputs[0]))\n",
    "prp=makedict(tree, dict(), bitarray())\n",
    "# prp"
   ]
  },
  {
   "cell_type": "code",
   "execution_count": 8,
   "metadata": {},
   "outputs": [],
   "source": [
    "def descr(prp):\n",
    "    res = bitarray()\n",
    "    res += \"{0:b}\".format(len(prp))\n",
    "    res = bitarray('0'*(8-len(res)))+res\n",
    "    for char, code in prp.items():\n",
    "        a=bitarray()\n",
    "        a.frombytes(char.encode())\n",
    "        a = bitarray('0'*(8-len(a)))+a\n",
    "#         print(a, a.tobytes())\n",
    "        res+=a\n",
    "        tmp = \"{0:b}\".format(len(code))\n",
    "        tmp = '0'*(8-len(tmp))+tmp\n",
    "#         print(tmp)\n",
    "        res += bitarray(tmp)\n",
    "        res += code\n",
    "#     print(res)\n",
    "    return res"
   ]
  },
  {
   "cell_type": "markdown",
   "metadata": {},
   "source": [
    "Funkcja descr - tworzy nagłówek pliku o foramcie.st - słownik"
   ]
  },
  {
   "cell_type": "code",
   "execution_count": 9,
   "metadata": {
    "scrolled": false
   },
   "outputs": [],
   "source": [
    "def compsta(txt=None, name=\"small\", outname=\"cmp\", prp=None):\n",
    "    if txt==None:\n",
    "        with open(name+\".txt\", 'r') as file:\n",
    "            txt=file.read()\n",
    "    if prp==None:\n",
    "        prp=makedict(stahuff(txt), dict(), bitarray())\n",
    "    desc=descr(prp)#, \"{0:b}\".format((len(txt))))\n",
    "    res=bitarray()\n",
    "    for char in txt:\n",
    "        res+=prp[char]\n",
    "    le = len(res)+len(desc)\n",
    "    res += '0'*(8-le+int(le/8)*8)\n",
    "    tmp = \"{0:b}\".format(8-le+int(le/8)*8)\n",
    "    tmp = '0'*(8-len(tmp)+int(len(tmp)/8)*8)+tmp\n",
    "    res = desc+bitarray(tmp)+res\n",
    "#     print(desc, tmp, res)\n",
    "#     print(res)\n",
    "    \n",
    "    with open(outname+\".st\", 'wb') as file:\n",
    "        res.tofile(file)\n",
    "    return res"
   ]
  },
  {
   "cell_type": "markdown",
   "metadata": {},
   "source": [
    "Funkcja compsta - kompresja pozwalająca na różne wersje(nie trzeba z pliku czytać), może odczytać plik, skompresować i zapisać do nowego pliku oraz zwraca wynik jako string"
   ]
  },
  {
   "cell_type": "code",
   "execution_count": 10,
   "metadata": {
    "scrolled": false
   },
   "outputs": [],
   "source": [
    "# comp = compsta(txt=inputs[0])\n",
    "comp = compsta(name=\"small\", outname=\"smallcmp\")\n",
    "comp = compsta(name=\"medium\", outname=\"mediumcmp\")\n",
    "comp = compsta(name=\"big\", outname=\"bigcmp\")\n",
    "comp = compsta(name=\"large\", outname=\"largecmp\")\n",
    "comp = compsta(name=\"number\", outname=\"numbercmp\")\n",
    "# comp"
   ]
  },
  {
   "cell_type": "code",
   "execution_count": 11,
   "metadata": {},
   "outputs": [],
   "source": [
    "def maketree(txt):\n",
    "    uniqs = txt[0:8]\n",
    "    uni = 0\n",
    "    for i in uniqs:\n",
    "        uni = (uni << 1) | i\n",
    "    ix = 8\n",
    "    T = dict()\n",
    "    for _ in range(uni):\n",
    "        le = txt[ix+8:ix+8+8]\n",
    "        length = 0\n",
    "        for i in le:\n",
    "            length = (length << 1) | i\n",
    "        char = 0\n",
    "        for i in txt[ix:ix+8]:\n",
    "            char = (char << 1) | i\n",
    "        T[chr(char)]=txt[ix+8+8:ix+8+8+length]\n",
    "        ix+=8+8+length\n",
    "    head = Node()\n",
    "    for char, code in T.items():\n",
    "        cur = head\n",
    "        for way in code:\n",
    "            if len(cur.kids) == 0:\n",
    "                tmp=Node()\n",
    "                cur.kid(tmp)\n",
    "                tmp.par(cur)\n",
    "                tmp=Node()\n",
    "                cur.kid(tmp)\n",
    "                tmp.par(cur)\n",
    "            cur = cur.kids[1 if way else 0]\n",
    "        cur.ch(char)\n",
    "    return head, ix"
   ]
  },
  {
   "cell_type": "markdown",
   "metadata": {},
   "source": [
    "Funkcja maketree - tworzy drzewo z ze słownika zawartego w skompresowanym pliku i zwraca index do końca słownika w tekście"
   ]
  },
  {
   "cell_type": "code",
   "execution_count": 12,
   "metadata": {},
   "outputs": [],
   "source": [
    "def read(txt, tree):\n",
    "    res=\"\"\n",
    "    cur = tree\n",
    "    for char in txt:\n",
    "        cur = cur.kids[1 if char else 0]\n",
    "        if len(cur.kids)==0:\n",
    "            res+=cur.char\n",
    "            cur=tree\n",
    "    return res"
   ]
  },
  {
   "cell_type": "markdown",
   "metadata": {},
   "source": [
    "Funkcja read - tłumaczy skompresowany text przy pomocy drzewa, dekompresuje tekst"
   ]
  },
  {
   "cell_type": "code",
   "execution_count": 13,
   "metadata": {},
   "outputs": [],
   "source": [
    "def decompsta(name=\"cmp\", outname=\"decomp\", txt=None):\n",
    "    if txt==None:\n",
    "        txt = bitarray()\n",
    "        with open(name+\".st\", 'rb') as file:\n",
    "            txt.fromfile(file)\n",
    "    tree, ix = maketree(txt)\n",
    "    off = txt[ix:ix+8]\n",
    "    ov=0\n",
    "    for bit in off:\n",
    "        ov = (ov<<1) | bit # ov<8\n",
    "    res = read(txt[ix+8:-ov], tree)\n",
    "#     print(res)\n",
    "    with open(outname+\".txt\", 'w') as file:\n",
    "        file.write(res)\n",
    "    return res\n",
    "#     print(tree)"
   ]
  },
  {
   "cell_type": "markdown",
   "metadata": {},
   "source": [
    "Funkcja decompsta - dekompresuje, skompresowany text - można go dostarczyć plikiem lub stringiem i zapisuje wynik do pliku oraz go zwraca"
   ]
  },
  {
   "cell_type": "code",
   "execution_count": 14,
   "metadata": {},
   "outputs": [],
   "source": [
    "# decomp(txt=comp)\n",
    "# decompsta()\n",
    "decomp = decompsta(name=\"smallcmp\", outname=\"smalldecmp\")\n",
    "decomp = decompsta(name=\"mediumcmp\", outname=\"mediumdecmp\")\n",
    "decomp = decompsta(name=\"bigcmp\", outname=\"bigdecmp\")\n",
    "decomp = decompsta(name=\"largecmp\", outname=\"largedecmp\")\n",
    "decomp = decompsta(name=\"numbercmp\", outname=\"numberdecmp\")"
   ]
  },
  {
   "cell_type": "code",
   "execution_count": 15,
   "metadata": {
    "scrolled": true
   },
   "outputs": [],
   "source": [
    "def test(txt='abracadabra'):\n",
    "    prp=makedict(stahuff(txt), dict(), bitarray())\n",
    "    res=bitarray()\n",
    "    desc=descr(prp)\n",
    "    for char in txt:\n",
    "        res+=prp[char]\n",
    "    le = len(res)+len(desc)\n",
    "    res += '0'*(8-le+int(le/8)*8)\n",
    "    tmp = \"{0:b}\".format(8-le+int(le/8)*8)\n",
    "    tmp = '0'*(8-len(tmp)+int(len(tmp)/8)*8)+tmp\n",
    "    comp = desc+bitarray(tmp)+res\n",
    "    print(comp)\n",
    "    tree, ix = maketree(comp)\n",
    "\n",
    "    ov=0\n",
    "    for bit in comp[ix:ix+8]:\n",
    "        ov = (ov<<1) | bit # ov<8\n",
    "    res = read(comp[ix+8:-ov], tree)\n",
    "    print(res)"
   ]
  },
  {
   "cell_type": "markdown",
   "metadata": {},
   "source": [
    "Funkcja test - sprawdza czy kompresja i dekompresja działa dla podanego tekstu"
   ]
  },
  {
   "cell_type": "code",
   "execution_count": 16,
   "metadata": {},
   "outputs": [
    {
     "name": "stdout",
     "output_type": "stream",
     "text": [
      "bitarray('0000010101100001000000010011000100000001010011001000000010011000110001100000100110101110010000000111110000001101011101101011000101110000')\n",
      "abracadabra\n"
     ]
    }
   ],
   "source": [
    "test()"
   ]
  },
  {
   "cell_type": "markdown",
   "metadata": {},
   "source": [
    "Aby skompresować plik należy wywołać polecenie(funkcja również zwraca skompresowany kod bitowy):\\\n",
    "compsta(name=\"small\", outname=\"smallcmp\")\n",
    "\n",
    "Aby plik skompresowany rozpakować, należy wywołać polecenie(funkcja zwraca rozpakowany tekst):\\\n",
    "decompsta(name=\"cmp\", outname=\"decomp\")\n",
    "\n",
    "W obu przypadkach można zmienić name i outname, aby zmienić rozszerzenia plików należy poszperać w tych funkcjach(nie wydaje mi się to konieczne - możnaby wgl usunąć +'.txt')"
   ]
  },
  {
   "cell_type": "code",
   "execution_count": 17,
   "metadata": {},
   "outputs": [],
   "source": [
    "comp = compsta(name=\"small\", outname=\"smallcmp\")\n",
    "decomp = decompsta(name=\"smallcmp\", outname=\"decomp\")"
   ]
  },
  {
   "cell_type": "markdown",
   "metadata": {},
   "source": [
    "Kompresja i dekompresja działają, kompresja redukuje rozmiar pliku o mniej więcej połowę."
   ]
  },
  {
   "cell_type": "markdown",
   "metadata": {},
   "source": [
    "# Dynamic/Adaptive Huffman"
   ]
  },
  {
   "cell_type": "markdown",
   "metadata": {},
   "source": [
    "Format:\\\n",
    "Adaptacyjny kod huffmana\\\n",
    "Dopełnienie zerami (<8 bitów)\\\n",
    "Liczba bitów dopełnionych (1 bajt - trochę się zmarnuje bo starczyłyby 3)"
   ]
  },
  {
   "cell_type": "code",
   "execution_count": 18,
   "metadata": {},
   "outputs": [],
   "source": [
    "class Tree:\n",
    "    def __init__(self):\n",
    "        self.zero = Node('00', val=0)\n",
    "        self.root = self.zero\n",
    "        self.nodes = []\n",
    "        self.seen = [None]*(2**8) # should be enough for our characters\n",
    "\n",
    "    def code(self, char, node, code=''):\n",
    "        if len(node.kids)==0:\n",
    "            return code if node.char == char else ''\n",
    "        else:\n",
    "            tmp = self.code(char, node.kids[0], code+'0')\n",
    "            if not tmp:\n",
    "                tmp = self.code(char, node.kids[1], code+'1')\n",
    "            return tmp\n",
    "    \n",
    "    def find(self, val):\n",
    "        for node in reversed(self.nodes):\n",
    "            if node.val == val:\n",
    "                return node\n",
    "            \n",
    "    def swap(self, n1, n2):\n",
    "        i1, i2 = self.nodes.index(n1), self.nodes.index(n2)\n",
    "        self.nodes[i1], self.nodes[i2] = self.nodes[i2], self.nodes[i1]\n",
    "#         tmp = n1.parent\n",
    "#         n1.parent = n2.parent\n",
    "#         n2.parent = tmp\n",
    "        n1.parent, n2.parent = n2.parent, n1.parent\n",
    "        \n",
    "        if n1.parent.kids[0]==n2:\n",
    "            n1.parent.kids[0]=n1\n",
    "        else:\n",
    "            n1.parent.kids[1]=n1\n",
    "        if n2.parent.kids[0]==n1:\n",
    "            n2.parent.kids[0]=n2\n",
    "        else:\n",
    "            n2.parent.kids[1]=n2\n",
    "        \n",
    "#         for i in range(2):\n",
    "#             if n1.parent.kids[i] == n2:\n",
    "#                 n1.parent.kids[i] = n1\n",
    "#             if n2.parent.kids[i] == n1:\n",
    "#                 n2.parent.kids[i] = n2\n",
    "                \n",
    "    def add(self, char):\n",
    "        node = self.seen[ord(char)]\n",
    "        \n",
    "        if node is None:\n",
    "            upd = Node('', val=1, par=self.zero.parent)\n",
    "            new = Node(char=char, val=1, par=upd)\n",
    "            upd.kid(self.zero)\n",
    "            upd.kid(new)\n",
    "            self.zero.par(upd)\n",
    "            \n",
    "            if upd.parent is not None:\n",
    "                upd.parent.kids[0]=upd\n",
    "            else:\n",
    "                self.root=upd\n",
    "                \n",
    "            self.nodes.insert(0, upd)\n",
    "            self.nodes.insert(0, new)\n",
    "            self.seen[ord(char)]=new\n",
    "            node = upd.parent\n",
    "        \n",
    "        while node is not None:\n",
    "            toswap = self.find(node.val)\n",
    "            \n",
    "            if node is not toswap and node is not toswap.parent and node.parent is not toswap:\n",
    "#                 print(char)\n",
    "#                 print('pre:\\n',self.root)\n",
    "                self.swap(node, toswap)\n",
    "#                 print('post:\\n',self.root)\n",
    "                \n",
    "            node.val += 1\n",
    "            node=node.parent\n",
    "            \n",
    "    def comp(self, txt):\n",
    "        res = ''\n",
    "        for char in txt:\n",
    "#             print('\\n\\tstart',char, end=\":\")\n",
    "            if self.seen[ord(char)]:\n",
    "                res += self.code(char, self.root)\n",
    "            else:\n",
    "                res += self.code('00', self.root)\n",
    "#                 print(self.code('00', self.root))\n",
    "                res += bin(ord(char))[2:].zfill(8)\n",
    "#             print(res)\n",
    "#             print(self.root)\n",
    "#             print(char, ':', res)\n",
    "            self.add(char)\n",
    "        length = len(res)\n",
    "        res += '0'*(8-length+int(length/8)*8)\n",
    "        res += bin(8-length+int(length/8)*8)[2:].zfill(8)\n",
    "        return bitarray(res)\n",
    "    \n",
    "    def decomp(self, txt):\n",
    "        off=0\n",
    "        for bit in txt[-8:]:\n",
    "            off = (off << 1) | bit\n",
    "        txt = txt[:-8-off]\n",
    "        \n",
    "        res = ''\n",
    "        char = 0\n",
    "        for bit in txt[:8]:\n",
    "            char = (char << 1) | bit\n",
    "        char = chr(char)\n",
    "        self.add(char)\n",
    "        res+=char\n",
    "        node = self.root\n",
    "        \n",
    "        ix=8\n",
    "        while ix < len(txt):\n",
    "            node = node.kids[1 if txt[ix] else 0]\n",
    "            char = node.char\n",
    "            \n",
    "            if char:\n",
    "                if char == '00':\n",
    "                    char = 0\n",
    "                    for bit in txt[ix+1:ix+1+8]:\n",
    "                        char = (char << 1) | bit \n",
    "                    char = chr(char)\n",
    "                    ix+=8\n",
    "                res += char\n",
    "                self.add(char)\n",
    "                node = self.root\n",
    "            ix+=1\n",
    "        return res"
   ]
  },
  {
   "cell_type": "markdown",
   "metadata": {},
   "source": [
    "Struktura tree, implementująca różne metody pomocne i konieczne przy algorytmie dynamicznego huffmana"
   ]
  },
  {
   "cell_type": "code",
   "execution_count": 19,
   "metadata": {
    "scrolled": true
   },
   "outputs": [
    {
     "name": "stdout",
     "output_type": "stream",
     "text": [
      "bitarray('011000010011000100001110010010001100011011000110010001101100000000000100')\n",
      "abracadabra\n"
     ]
    }
   ],
   "source": [
    "comp=Tree().comp('abracadabra')\n",
    "print(comp)\n",
    "print(Tree().decomp(comp))"
   ]
  },
  {
   "cell_type": "code",
   "execution_count": 20,
   "metadata": {},
   "outputs": [],
   "source": [
    "def compad(name='small', outname='wowcomp'):\n",
    "    with open(name+\".txt\", 'r') as file:\n",
    "        txt=file.read()\n",
    "    with open(outname+\".ad\", 'wb') as file:\n",
    "        Tree().comp(txt).tofile(file)\n",
    "    return Tree().comp(txt)"
   ]
  },
  {
   "cell_type": "markdown",
   "metadata": {},
   "source": [
    "Funkcja compad - dostaje 2 pliki, otwiera i czyta pierwszy, zapisuje skompresowaną wartość do drugiego"
   ]
  },
  {
   "cell_type": "code",
   "execution_count": 21,
   "metadata": {},
   "outputs": [],
   "source": [
    "def decompad(name='wowcomp', outname='wowdecomp'):\n",
    "    txt=bitarray()\n",
    "    with open(name+'.ad', 'rb') as file:\n",
    "        txt.fromfile(file)\n",
    "    with open(outname+'.txt', 'w') as file:\n",
    "        file.write(Tree().decomp(txt))\n",
    "    return Tree().decomp(txt)"
   ]
  },
  {
   "cell_type": "markdown",
   "metadata": {},
   "source": [
    "Funkcja decompad - dostaje 2 pliki, otwiera i czyta pierwszy, zapisuje zdekompresowaną wartość do drugiego"
   ]
  },
  {
   "cell_type": "code",
   "execution_count": 22,
   "metadata": {},
   "outputs": [
    {
     "name": "stdout",
     "output_type": "stream",
     "text": [
      "1027\n"
     ]
    },
    {
     "data": {
      "text/plain": [
       "4736"
      ]
     },
     "execution_count": 22,
     "metadata": {},
     "output_type": "execute_result"
    }
   ],
   "source": [
    "with open('small.txt', 'r') as file:\n",
    "    txt=file.read()\n",
    "\n",
    "print(len(txt))\n",
    "len(Tree().comp(txt))"
   ]
  },
  {
   "cell_type": "code",
   "execution_count": 23,
   "metadata": {
    "scrolled": true
   },
   "outputs": [],
   "source": [
    "comp = compad()\n",
    "decomp = decompad()"
   ]
  },
  {
   "cell_type": "code",
   "execution_count": 24,
   "metadata": {},
   "outputs": [],
   "source": [
    "comp = compad(name=\"small\", outname=\"smallwowcmp\")\n",
    "comp = compad(name=\"medium\", outname=\"mediumwowcmp\")\n",
    "comp = compad(name=\"big\", outname=\"bigwowcmp\")\n",
    "comp = compad(name=\"large\", outname=\"largewowcmp\")\n",
    "comp = compad(name=\"number\", outname=\"numberwowcmp\")"
   ]
  },
  {
   "cell_type": "code",
   "execution_count": 25,
   "metadata": {},
   "outputs": [],
   "source": [
    "decomp = decompad(name=\"smallwowcmp\", outname=\"smallwowdecmp\")\n",
    "decomp = decompad(name=\"mediumwowcmp\", outname=\"mediumwowdecmp\")\n",
    "decomp = decompad(name=\"bigwowcmp\", outname=\"bigwowdecmp\")\n",
    "decomp = decompad(name=\"largewowcmp\", outname=\"largewowdecmp\")\n",
    "decomp = decompad(name=\"numberwowcmp\", outname=\"numberwowdecmp\")"
   ]
  },
  {
   "cell_type": "markdown",
   "metadata": {},
   "source": [
    "Aby skompresować plik należy wywołać polecenie(funkcja również zwraca skompresowany kod bitowy):\\\n",
    "compad(name=\"small\", outname=\"wowcomp\")\n",
    "\n",
    "Aby plik skompresowany rozpakować, należy wywołać polecenie(funkcja zwraca rozpakowany tekst):\\\n",
    "decompad(name=\"wowcomp\", outname=\"wowdecomp\")\n",
    "\n",
    "W obu przypadkach można zmienić name i outname, aby zmienić rozszerzenia plików należy poszperać w tych funkcjach(nie wydaje mi się to konieczne - możnaby wgl usunąć +'.txt')"
   ]
  },
  {
   "cell_type": "code",
   "execution_count": 26,
   "metadata": {},
   "outputs": [],
   "source": [
    "comp = compad(name=\"small\", outname=\"wowcomp\")\n",
    "decomp = decompad(name=\"wowcomp\", outname=\"wowdecomp\")"
   ]
  },
  {
   "cell_type": "markdown",
   "metadata": {},
   "source": [
    "# Comparison"
   ]
  },
  {
   "cell_type": "code",
   "execution_count": 27,
   "metadata": {},
   "outputs": [],
   "source": [
    "from os.path import getsize as size\n",
    "from filecmp import cmp as diff"
   ]
  },
  {
   "cell_type": "markdown",
   "metadata": {},
   "source": [
    "Oba sposoby działają, bezstrarnie kompresują dane i pozwalają je rozpakować."
   ]
  },
  {
   "cell_type": "code",
   "execution_count": 28,
   "metadata": {},
   "outputs": [],
   "source": [
    "assert size(\"small.txt\")==size(\"smalldecmp.txt\")==size(\"smallwowdecmp.txt\")\n",
    "assert size(\"medium.txt\")==size(\"mediumdecmp.txt\")==size(\"mediumwowdecmp.txt\")\n",
    "assert size(\"big.txt\")==size(\"bigdecmp.txt\")==size(\"bigwowdecmp.txt\")\n",
    "assert size(\"large.txt\")==size(\"largedecmp.txt\")==size(\"largewowdecmp.txt\")\n",
    "assert size(\"number.txt\")==size(\"numberdecmp.txt\")==size(\"numberwowdecmp.txt\")\n",
    "assert diff(\"smalldecmp.txt\", \"smallwowdecmp.txt\") and diff(\"small.txt\", \"smallwowdecmp.txt\")\n",
    "assert diff(\"mediumdecmp.txt\", \"mediumwowdecmp.txt\") and diff(\"medium.txt\", \"mediumwowdecmp.txt\")\n",
    "assert diff(\"bigdecmp.txt\", \"bigwowdecmp.txt\") and diff(\"big.txt\", \"bigwowdecmp.txt\")\n",
    "assert diff(\"largedecmp.txt\", \"largewowdecmp.txt\") and diff(\"large.txt\", \"largewowdecmp.txt\")\n",
    "assert diff(\"numberdecmp.txt\", \"numberwowdecmp.txt\") and diff(\"number.txt\", \"numberwowdecmp.txt\")"
   ]
  },
  {
   "cell_type": "markdown",
   "metadata": {},
   "source": [
    "Porównajmy rozmiary plików po skompresowaniu:\\\n",
    "Podane procentowo - współczynnik kompresji - skompresowane/nieskompresowane"
   ]
  },
  {
   "cell_type": "code",
   "execution_count": 29,
   "metadata": {},
   "outputs": [],
   "source": [
    "def comppow(file=\"small\"):\n",
    "    f=file+'.txt'\n",
    "    sta=file+'cmp.st'\n",
    "    ada=file+'wowcmp.ad'\n",
    "    print(f\"for file {f} with size {size(f)} bytes compression powers are\")\n",
    "    print(f\"Static: {(1-size(sta)/size(f))*100}%\\nAdaptive: {(1-size(ada)/size(f))*100}%\\n\")"
   ]
  },
  {
   "cell_type": "code",
   "execution_count": 30,
   "metadata": {},
   "outputs": [
    {
     "name": "stdout",
     "output_type": "stream",
     "text": [
      "for file small.txt with size 1027 bytes compression powers are\n",
      "Static: 36.02726387536514%\n",
      "Adaptive: 42.35637779941578%\n",
      "\n",
      "for file medium.txt with size 10273 bytes compression powers are\n",
      "Static: 45.42003309646646%\n",
      "Adaptive: 46.11116519030468%\n",
      "\n",
      "for file big.txt with size 100329 bytes compression powers are\n",
      "Static: 46.435228099552475%\n",
      "Adaptive: 46.499018230023225%\n",
      "\n",
      "for file large.txt with size 1048576 bytes compression powers are\n",
      "Static: 45.30763626098633%\n",
      "Adaptive: 45.2946662902832%\n",
      "\n",
      "for file number.txt with size 1048576 bytes compression powers are\n",
      "Static: 56.214332580566406%\n",
      "Adaptive: 56.10466003417969%\n",
      "\n"
     ]
    }
   ],
   "source": [
    "comppow(\"small\")\n",
    "comppow(\"medium\")\n",
    "comppow(\"big\")\n",
    "comppow(\"large\")\n",
    "comppow(\"number\")"
   ]
  },
  {
   "cell_type": "markdown",
   "metadata": {},
   "source": [
    "Ogólnie oba sposoby kompresują pliki bardzo podobnie, jeden jest czasem trochę lepszy od drugiego, jednak zależy to od danych kompresowanych. W naszym przypadku możemy zauważyć że największe pliki były lepiej skompresowane przez statycznego huffmana, natomiast przy wszystkich pozostałych adaptacyjny kompresował lepiej."
   ]
  },
  {
   "cell_type": "markdown",
   "metadata": {},
   "source": [
    "Zmierzmy czasy kompresji i dekompresji (wraz z zapisem i odczytem z pliku):"
   ]
  },
  {
   "cell_type": "code",
   "execution_count": 31,
   "metadata": {},
   "outputs": [],
   "source": [
    "def tim(file='small'):\n",
    "    f=file+'.txt'\n",
    "    print(f\"For file {f} with size {size(f)} bytes compression and decompresion times for static:\")\n",
    "    print(\"\\nCompresion:\")\n",
    "    %timeit index = compsta(name=file, outname=\"comptmpsta\")\n",
    "    print(\"\\nDecompresion:\")\n",
    "    %timeit index = decompsta(name=\"comptmpsta\", outname=\"decomptmpsta\")\n",
    "    \n",
    "    print(f\"\\n\\nFor file {f} with size {size(f)} compression and decompresion times for adaptive:\")\n",
    "    print(\"\\nCompresion:\")\n",
    "    %timeit index = compad(name=file, outname=\"comptmpada\")\n",
    "    print(\"\\nDecompresion:\")\n",
    "    %timeit index = decompad(name=\"comptmpada\", outname=\"decomptmpada\")\n",
    "# %timeit index = "
   ]
  },
  {
   "cell_type": "code",
   "execution_count": 32,
   "metadata": {},
   "outputs": [
    {
     "name": "stdout",
     "output_type": "stream",
     "text": [
      "For file small.txt with size 1027 bytes compression and decompresion times for static:\n",
      "\n",
      "Compresion:\n",
      "1.31 ms ± 8.35 µs per loop (mean ± std. dev. of 7 runs, 1000 loops each)\n",
      "\n",
      "Decompresion:\n",
      "1.28 ms ± 5.44 µs per loop (mean ± std. dev. of 7 runs, 1000 loops each)\n",
      "\n",
      "\n",
      "For file small.txt with size 1027 compression and decompresion times for adaptive:\n",
      "\n",
      "Compresion:\n",
      "50.8 ms ± 1.61 ms per loop (mean ± std. dev. of 7 runs, 10 loops each)\n",
      "\n",
      "Decompresion:\n",
      "29.1 ms ± 1.23 ms per loop (mean ± std. dev. of 7 runs, 10 loops each)\n"
     ]
    }
   ],
   "source": [
    "tim('small')"
   ]
  },
  {
   "cell_type": "code",
   "execution_count": 33,
   "metadata": {},
   "outputs": [
    {
     "name": "stdout",
     "output_type": "stream",
     "text": [
      "For file medium.txt with size 10273 bytes compression and decompresion times for static:\n",
      "\n",
      "Compresion:\n",
      "4.75 ms ± 159 µs per loop (mean ± std. dev. of 7 runs, 100 loops each)\n",
      "\n",
      "Decompresion:\n",
      "9.46 ms ± 69.9 µs per loop (mean ± std. dev. of 7 runs, 100 loops each)\n",
      "\n",
      "\n",
      "For file medium.txt with size 10273 compression and decompresion times for adaptive:\n",
      "\n",
      "Compresion:\n",
      "536 ms ± 4.3 ms per loop (mean ± std. dev. of 7 runs, 1 loop each)\n",
      "\n",
      "Decompresion:\n",
      "198 ms ± 611 µs per loop (mean ± std. dev. of 7 runs, 10 loops each)\n"
     ]
    }
   ],
   "source": [
    "tim('medium')"
   ]
  },
  {
   "cell_type": "code",
   "execution_count": 34,
   "metadata": {},
   "outputs": [
    {
     "name": "stdout",
     "output_type": "stream",
     "text": [
      "For file big.txt with size 100329 bytes compression and decompresion times for static:\n",
      "\n",
      "Compresion:\n",
      "36.9 ms ± 465 µs per loop (mean ± std. dev. of 7 runs, 10 loops each)\n",
      "\n",
      "Decompresion:\n",
      "89.5 ms ± 296 µs per loop (mean ± std. dev. of 7 runs, 10 loops each)\n",
      "\n",
      "\n",
      "For file big.txt with size 100329 compression and decompresion times for adaptive:\n",
      "\n",
      "Compresion:\n",
      "5.48 s ± 15.6 ms per loop (mean ± std. dev. of 7 runs, 1 loop each)\n",
      "\n",
      "Decompresion:\n",
      "1.72 s ± 11.8 ms per loop (mean ± std. dev. of 7 runs, 1 loop each)\n"
     ]
    }
   ],
   "source": [
    "tim('big')"
   ]
  },
  {
   "cell_type": "code",
   "execution_count": 35,
   "metadata": {},
   "outputs": [
    {
     "name": "stdout",
     "output_type": "stream",
     "text": [
      "For file large.txt with size 1048576 bytes compression and decompresion times for static:\n",
      "\n",
      "Compresion:\n",
      "374 ms ± 6.27 ms per loop (mean ± std. dev. of 7 runs, 1 loop each)\n",
      "\n",
      "Decompresion:\n",
      "944 ms ± 4.62 ms per loop (mean ± std. dev. of 7 runs, 1 loop each)\n",
      "\n",
      "\n",
      "For file large.txt with size 1048576 compression and decompresion times for adaptive:\n",
      "\n",
      "Compresion:\n",
      "58 s ± 592 ms per loop (mean ± std. dev. of 7 runs, 1 loop each)\n",
      "\n",
      "Decompresion:\n",
      "19.3 s ± 365 ms per loop (mean ± std. dev. of 7 runs, 1 loop each)\n"
     ]
    }
   ],
   "source": [
    "tim('large')"
   ]
  },
  {
   "cell_type": "code",
   "execution_count": 36,
   "metadata": {},
   "outputs": [
    {
     "name": "stdout",
     "output_type": "stream",
     "text": [
      "For file number.txt with size 1048576 bytes compression and decompresion times for static:\n",
      "\n",
      "Compresion:\n",
      "348 ms ± 2.05 ms per loop (mean ± std. dev. of 7 runs, 1 loop each)\n",
      "\n",
      "Decompresion:\n",
      "782 ms ± 4.39 ms per loop (mean ± std. dev. of 7 runs, 1 loop each)\n",
      "\n",
      "\n",
      "For file number.txt with size 1048576 compression and decompresion times for adaptive:\n",
      "\n",
      "Compresion:\n",
      "21.4 s ± 2.11 s per loop (mean ± std. dev. of 7 runs, 1 loop each)\n",
      "\n",
      "Decompresion:\n",
      "12.6 s ± 59.7 ms per loop (mean ± std. dev. of 7 runs, 1 loop each)\n"
     ]
    }
   ],
   "source": [
    "tim('number')"
   ]
  },
  {
   "cell_type": "markdown",
   "metadata": {},
   "source": [
    "Jak widać metoda statyczna, pozwala szybciej kompresować i dekompresować pliki, natomiast wymaga podania założeń na początku (częstość występowania/prawdopodobieństwo wystąpienia litery) co wymaga dodatkowego przejścia przez cały plik bądź dodatkowego założenia.\\\n",
    "Medota dynamiczna pozwala kompresować i dekompresować plik \"w biegu\", nie wymaga dodatkowych założeń, jednak trwa trochę dłużej (można ją przyspieszyć ulepszająć metodę add i find)"
   ]
  }
 ],
 "metadata": {
  "kernelspec": {
   "display_name": "Python 3",
   "language": "python",
   "name": "python3"
  },
  "language_info": {
   "codemirror_mode": {
    "name": "ipython",
    "version": 3
   },
   "file_extension": ".py",
   "mimetype": "text/x-python",
   "name": "python",
   "nbconvert_exporter": "python",
   "pygments_lexer": "ipython3",
   "version": "3.7.4"
  }
 },
 "nbformat": 4,
 "nbformat_minor": 2
}
